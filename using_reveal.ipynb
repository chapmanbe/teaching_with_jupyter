{
 "cells": [
  {
   "cell_type": "markdown",
   "metadata": {
    "slideshow": {
     "slide_type": "slide"
    }
   },
   "source": [
    "# Creating Interactive Slide Shows with Jupyter\n",
    "## Brian E. Chapman, PhD\n",
    "\n"
   ]
  },
  {
   "cell_type": "markdown",
   "metadata": {
    "slideshow": {
     "slide_type": "subslide"
    }
   },
   "source": [
    "## This is a sub-slide\n",
    "### Issues\n",
    "\n",
    "1. As with all slide shows, getting the formatting is difficult\n",
    "2. But perhaps provides the ability for drama...\n"
   ]
  },
  {
   "cell_type": "markdown",
   "metadata": {
    "slideshow": {
     "slide_type": "subslide"
    }
   },
   "source": [
    "3. ...As the next slide is revealed"
   ]
  },
  {
   "cell_type": "markdown",
   "metadata": {
    "slideshow": {
     "slide_type": "slide"
    }
   },
   "source": [
    "## Example\n",
    "* The sinc function is defined as follows: $sinc(x) = \\frac{sin(\\pi x)}{\\pi x}$\n",
    "* What happens when $x=0$? "
   ]
  },
  {
   "cell_type": "markdown",
   "metadata": {
    "slideshow": {
     "slide_type": "subslide"
    }
   },
   "source": [
    "* Division by [zero is undefined](https://www.math.utah.edu/~pa/math/0by0.html)\n",
    "* But what about $\\frac{0}{0}$? \n",
    "\n",
    "> [T]here is a way to make sense of the expression 0/0. The basic idea is to let both the numerator and the denominator become smaller and smaller, and to make the value of 0/0 dependent upon the way in which numerator and denominator approach 0. (Peter Alfed)\n",
    "\n",
    "* This is [L'Hôpital's rule](https://en.wikipedia.org/wiki/L%27H%C3%B4pital%27s_rule)\n"
   ]
  },
  {
   "cell_type": "markdown",
   "metadata": {
    "slideshow": {
     "slide_type": "subslide"
    }
   },
   "source": [
    "## Use L'Hôpital's rule to compute the limit of $sinc(x)$ as x approaches zero.\n",
    "\n",
    "1. Take derivative of the numerator\n",
    "$$\\frac{d \\sin(\\pi x)}{dx} = \\pi\\cos(x)$$\n",
    "1. Take derivate of the denominator\n",
    "$$\\frac{d \\pi x}{dx} = \\pi$$\n",
    "1. Compute the limit of the ratio of the derivatives as $x$ approaches zero\n",
    "$$\\lim_{x\\to 0} = \\frac{\\pi\\cos(0)}{pi} = \\frac{\\pi}{\\pi} = 1$$"
   ]
  },
  {
   "cell_type": "markdown",
   "metadata": {
    "slideshow": {
     "slide_type": "slide"
    }
   },
   "source": [
    "## Define the `sinc` function\n",
    "\n",
    "Use a `try/except` or `if/else` block to define a function `sinc` that takes a single argument (`x`) and returns $\\frac{sin(\\pi x)}{\\pi x}$"
   ]
  },
  {
   "cell_type": "code",
   "execution_count": 7,
   "metadata": {
    "slideshow": {
     "slide_type": "subslide"
    }
   },
   "outputs": [
    {
     "data": {
      "text/plain": [
       "1"
      ]
     },
     "execution_count": 7,
     "metadata": {},
     "output_type": "execute_result"
    }
   ],
   "source": [
    "import matplotlib.pyplot as plt\n",
    "import math\n",
    "import numpy as np\n",
    "def sinc(x):\n",
    "    if x != 0:\n",
    "        return math.sin(math.pi*x)/(math.pi*x)\n",
    "    else:\n",
    "        return 1\n",
    "\n",
    "\n",
    "sinc(0)"
   ]
  },
  {
   "cell_type": "code",
   "execution_count": 9,
   "metadata": {
    "slideshow": {
     "slide_type": "subslide"
    }
   },
   "outputs": [
    {
     "data": {
      "text/plain": [
       "[<matplotlib.lines.Line2D at 0x7f1b001e1ac8>]"
      ]
     },
     "execution_count": 9,
     "metadata": {},
     "output_type": "execute_result"
    },
    {
     "data": {
      "image/png": "[encoded data removed]",
      "text/plain": [
       "<matplotlib.figure.Figure at 0x7f1b022d7a90>"
      ]
     },
     "metadata": {},
     "output_type": "display_data"
    }
   ],
   "source": [
    "plt.plot(np.arange(-5, 5, 0.1), [sinc(x) for x in np.arange(-5,5, 0.1)])"
   ]
  },
  {
   "cell_type": "code",
   "execution_count": null,
   "metadata": {
    "collapsed": true
   },
   "outputs": [],
   "source": []
  }
 ],
 "metadata": {
  "celltoolbar": "Slideshow",
  "kernelspec": {
   "display_name": "Python 3",
   "language": "python",
   "name": "python3"
  },
  "language_info": {
   "codemirror_mode": {
    "name": "ipython",
    "version": 3
   },
   "file_extension": ".py",
   "mimetype": "text/x-python",
   "name": "python",
   "nbconvert_exporter": "python",
   "pygments_lexer": "ipython3",
   "version": "3.5.2"
  }
 },
 "nbformat": 4,
 "nbformat_minor": 2
}
