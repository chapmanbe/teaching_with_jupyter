{
 "cells": [
  {
   "cell_type": "markdown",
   "metadata": {},
   "source": [
    "# Table of Contents\n",
    "* [Current Infrastructure](#Current-Infrastructure)\n",
    "\t* [Single Server Hosting one JupyterHub Instance](#Single-Server-Hosting-one-JupyterHub-Instance)\n",
    "* [New Infrastructure](#New-Infrastructure)\n",
    "\t* [Multiple Servers controlled through [Docker Swarm](https://docs.docker.com/engine/swarm/) Serving Multiple JupyterHub Instances](#Multiple-Servers-controlled-through-[Docker-Swarm]%28https://docs.docker.com/engine/swarm/%29-Serving-Multiple-JupyterHub-Instances)\n"
   ]
  },
  {
   "cell_type": "markdown",
   "metadata": {
    "slideshow": {
     "slide_type": "slide"
    }
   },
   "source": [
    "# Current Infrastructure"
   ]
  },
  {
   "cell_type": "markdown",
   "metadata": {},
   "source": [
    "## Single Server Hosting one JupyterHub Instance"
   ]
  },
  {
   "cell_type": "markdown",
   "metadata": {},
   "source": [
    "* Authentication through GitHub openauth\n",
    "    * Designed for educating non-UofU students as part of R25 DeCART Summer School\n",
    "* 256 Unique Users over the past ~17 months\n",
    "* Mark Keller (Eccles) system architect and administrator"
   ]
  },
  {
   "attachments": {},
   "cell_type": "markdown",
   "metadata": {
    "slideshow": {
     "slide_type": "slide"
    }
   },
   "source": [
    "<img\n",
    "src=\"https://www.docker.com/sites/default/files/Package%20software.png\" alt=\"Docker Containers\" width=\"768\">"
   ]
  },
  {
   "cell_type": "markdown",
   "metadata": {
    "slideshow": {
     "slide_type": "slide"
    }
   },
   "source": [
    "# New Infrastructure"
   ]
  },
  {
   "cell_type": "markdown",
   "metadata": {
    "slideshow": {
     "slide_type": "subslide"
    }
   },
   "source": [
    "## Multiple Servers controlled through [Docker Swarm](https://docs.docker.com/engine/swarm/) Serving Multiple JupyterHub Instances"
   ]
  },
  {
   "cell_type": "markdown",
   "metadata": {
    "slideshow": {
     "slide_type": "subslide"
    }
   },
   "source": [
    "* Authentication with GitHUB or University of Utah ID"
   ]
  },
  {
   "cell_type": "markdown",
   "metadata": {
    "slideshow": {
     "slide_type": "subslide"
    }
   },
   "source": [
    "<img\n",
    "src=\"./EcclesLearningEnvironment.png\" alt=\"Learning Environment Schematic\" width=\"768\">\n"
   ]
  },
  {
   "cell_type": "markdown",
   "metadata": {
    "collapsed": true,
    "slideshow": {
     "slide_type": "subslide"
    }
   },
   "source": [
    "<img\n",
    "src=\"./ClassDiagram.png\" alt=\"Learning Environment Schematic\" width=\"768\">"
   ]
  },
  {
   "cell_type": "markdown",
   "metadata": {
    "slideshow": {
     "slide_type": "slide"
    }
   },
   "source": [
    "```Yaml\n",
    "version: '2'\n",
    "services:\n",
    "  notebook:\n",
    "    build: ./jupyter\n",
    "    ports:\n",
    "      - \"8989:8888\"\n",
    "    environment:\n",
    "      - PASSWORD=bmi6950\n",
    "      - USE_HTTPS=yes\n",
    "    volumes:\n",
    "      - /Users/brian/Documents/UUDS4HealthData/Data:/home/jovyan/DATA:ro\n",
    "      - /Users/brian/Code/:/home/jovyan/work\n",
    "    links:\n",
    "      - mysolr\n",
    "      - mynlp\n",
    "      - mymongo\n",
    "      - mysql\n",
    "  mysolr:\n",
    "    image: solr:latest\n",
    "    hostname: mysolr\n",
    "    domainname: localdomain\n",
    "    ports:\n",
    "      - \"8983:8983\"\n",
    "  mynlp:\n",
    "    image: motiz88/corenlp\n",
    "    ports:\n",
    "      - \"9000:9000\"\n",
    "  mysql:\n",
    "    image: mysql:latest\n",
    "    environment:\n",
    "      - MYSQL_ROOT_PASSWORD=mimic2-root-pw\n",
    "    volumes:\n",
    "      - /Users/brian/Bdrive/6950mysql-tmp:/data\n",
    "  mymongo:\n",
    "    image: mongo:latest\n",
    "  mynginx:\n",
    "    build: ./web-server\n",
    "    ports:\n",
    "        - \"8080:80\"\n",
    "  myssh:\n",
    "    build: ./ssh-server\n",
    "    environment:\n",
    "        - AUTH_MECHANISM=simpleAuth\n",
    "        - AUTH_USER=jovyan\n",
    "        - AUTH_PASSWORD=jovyan\n",
    "        - HTTP_ENABLED=false\n",
    "    ports:\n",
    "        - \"2212:22\"\n",
    "  myorient:\n",
    "      image: orientdb:latest\n",
    "      ports:\n",
    "          - 2480:2480\n",
    "          - 2424:2424\n",
    "      environment:\n",
    "          - ORIENTDB_ROOT_PASSWORD=root\n",
    "```"
   ]
  },
  {
   "cell_type": "markdown",
   "metadata": {
    "slideshow": {
     "slide_type": "slide"
    }
   },
   "source": [
    "```ruby\n",
    "FROM jupyter/datascience-notebook:11be019e4079\n",
    "MAINTAINER chapmanbe <brian.chapman@utah.edu>\n",
    "USER root\n",
    "# for physionet instructions see\n",
    "# https://www.physionet.org/physiotools/wfdb-linux-quick-start.shtml\n",
    "# dependencies for spell nbextensions (including spell check) and other requirements\n",
    "\n",
    "RUN apt-get update && apt-get upgrade -y && apt-get install -y \\\n",
    "      tree \\\n",
    "      graphviz\\ \n",
    "      less \\\n",
    "      openssh-client \\\n",
    "      gcc \\\n",
    "      libcurl4-openssl-dev \\\n",
    "      libexpat1-dev \\\n",
    "      libnetcdff5 \\\n",
    "      locales-all \\\n",
    "      libxrender-dev \\\n",
    "      libfontconfig-dev \\\n",
    "      libffi-dev \\\n",
    "      rsync \\\n",
    "      mongodb-clients \\\n",
    "      libmariadb-client-lgpl-dev \\\n",
    "  && rm -rf /var/lib/apt/lists/*\n",
    "\n",
    "\n",
    "# Install physiosnet software\n",
    "WORKDIR /opt/wfdb\n",
    "RUN wget https://www.physionet.org/physiotools/wfdb.tar.gz && \\\n",
    "    tar xvfz wfdb.tar.gz \n",
    "\n",
    "WORKDIR /opt/wfdb/wfdb-10.5.24\n",
    "RUN ./configure && \\\n",
    "    make install \n",
    "WORKDIR  /opt \n",
    "RUN rm -r /opt/wfdb \n",
    "\n",
    "WORKDIR /home/jovyan\n",
    "\n",
    "# Set default editor to vim\n",
    "RUN update-alternatives --set editor /usr/bin/vim.basic\n",
    "\n",
    "USER jovyan\n",
    "\n",
    "RUN conda install -c damianavila82 rise -y\n",
    "\n",
    "RUN git clone https://github.com/Calysto/notebook-extensions.git\n",
    "WORKDIR /home/jovyan/notebook-extensions\n",
    "RUN jupyter nbextension install calysto --user && \\\n",
    "    jupyter nbextension enable calysto/document-tools/main && \\\n",
    "    jupyter nbextension enable calysto/cell-tools/main && \\\n",
    "    jupyter nbextension enable calysto/spell-check/main && \\\n",
    "    jupyter nbextension enable calysto/publish/main && \\\n",
    "    jupyter nbextension enable calysto/submit/main && \\\n",
    "    jupyter nbextension enable calysto/annotate/main \n",
    "\n",
    "RUN conda update conda -y && conda install -y \\\n",
    "    mpld3 \\\n",
    "    pip \\\n",
    "    pymysql \\\n",
    "    postgresql \\\n",
    "    gensim \\\n",
    "    biopython \\\n",
    "    pytables \\\n",
    "    scikit-image \\\n",
    "    pymongo \\\n",
    "    spacy \n",
    "\n",
    "RUN conda install -y  -c  https://conda.anaconda.org/simpleitk SimpleITK \n",
    "RUN conda install -y  -c conda-forge nbstripout\n",
    "RUN pip install pydicom \\\n",
    "    textblob \\\n",
    "    ipythonblocks \\\n",
    "    pydotplus \\\n",
    "    nbstripout \\\n",
    "    pycontextnlp \\\n",
    "    radnlp \\\n",
    "    fhirclient \\\n",
    "    pivottablejs \\\n",
    "    girder_client \\\n",
    "    nose \\\n",
    "    pyorient\n",
    "\n",
    "RUN R -e 'install.packages(c(\"tidyverse\",\"tidytext\",\"icd\",\"RMySQL\",\"DBI\",\"dbplyr\",\"SuperLearner\",\"caret\",\"tensorflow\",\"ggdendro\",\"tree\"), dependencies = TRUE, repos = \"https://cran.cnr.berkeley.edu/\" )'\n",
    "\n",
    "WORKDIR /home/jovyan\n",
    "ADD decart_welcome.ipynb /home/jovyan/work/decart_welcome.ipynb\n",
    "ADD media /home/jovyan/work/media\n",
    "ADD dbmi_welcome.ipynb /home/jovyan/work/dbmi_welcome.ipynb\n",
    "RUN conda install -y -c conda-forge nbgrader\n",
    "# RUN nbstripout --install\n",
    "CMD [\"start-notebook.sh\"]\n",
    "```"
   ]
  },
  {
   "cell_type": "markdown",
   "metadata": {
    "slideshow": {
     "slide_type": "slide"
    }
   },
   "source": []
  }
 ],
 "metadata": {
  "celltoolbar": "Slideshow",
  "kernelspec": {
   "display_name": "Python 3",
   "language": "python",
   "name": "python3"
  },
  "language_info": {
   "codemirror_mode": {
    "name": "ipython",
    "version": 3
   },
   "file_extension": ".py",
   "mimetype": "text/x-python",
   "name": "python",
   "nbconvert_exporter": "python",
   "pygments_lexer": "ipython3",
   "version": "3.5.2"
  }
 },
 "nbformat": 4,
 "nbformat_minor": 2
}
