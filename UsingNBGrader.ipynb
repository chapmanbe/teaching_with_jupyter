{
 "cells": [
  {
   "cell_type": "markdown",
   "metadata": {
    "slideshow": {
     "slide_type": "slide"
    }
   },
   "source": [
    "# What Have I Learned From a Semester Using NBGrader?\n",
    "\n"
   ]
  },
  {
   "cell_type": "markdown",
   "metadata": {
    "slideshow": {
     "slide_type": "slide"
    }
   },
   "source": [
    "## Some Big Failures"
   ]
  },
  {
   "cell_type": "markdown",
   "metadata": {
    "slideshow": {
     "slide_type": "slide"
    }
   },
   "source": [
    "## Here is the assignment\n",
    "\n",
    "**Problem 3. (30 points)**\n",
    "\n",
    "Mathematicians are critical of the simple differences we have been using to approximate derivatives because they are inaccurate. More accurate approximations can be derived based on [Taylor series expansions](https://en.wikipedia.org/wiki/Taylor_series#Definition) of functions. A common approximation of the first derivative is:\n",
    "\n",
    "$$\n",
    "f_i' \\approx \\frac{-f_{i+2}+8f_{i+1}-8f_{i-1}+f_{i-2}}{12h}.\n",
    "$$\n",
    "\n",
    "This approximation to the derivative has an error an the order of the fourth power of the step size ($O(h^4)$).\n",
    "(Strickwerda, *Finite Difference Schems and Partial Differential Equations,* p. 69)\n",
    "\n",
    "Write a function ``d1c`` that implements the above approximation to the first derivative. Provide the same type checking (e.g. numpy array, number) as with problems 1 and 2. The function should have a docstring.\n",
    "\n",
    "Test the function with fp1.\n"
   ]
  },
  {
   "cell_type": "markdown",
   "metadata": {
    "slideshow": {
     "slide_type": "slide"
    }
   },
   "source": [
    "## Here is my solution\n",
    "\n",
    "```Python\n",
    "### BEGIN SOLUTION\n",
    "def d1c(s, h=1.0):\n",
    "    \"\"\"Computes a fourth-order accurate difference approximation of the derivative of s\n",
    "    \n",
    "    s: a one-dimensional numpy array\n",
    "    h: a floating point number representing the size of the array step\"\"\"\n",
    "    if not isinstance(s, np.ndarray):\n",
    "        raise TypeError(\"s needs to be a numpy array\")\n",
    "    if not isinstance(h, numbers.Number):\n",
    "        raise TypeError(\"h needs to be a number\") \n",
    "    if h <= 0:\n",
    "        raise ValueError(\"h needs to be positive\")\n",
    "    news = np.zeros(s.shape, np.float64)\n",
    "    \n",
    "    news[2:-2] = (-s[4:] + 8 * s[3:-1] - 8 * s[1:-3] + s[0:-4]) / (12*h)\n",
    "    return news\n",
    "### END SOLUTION\n",
    "```"
   ]
  },
  {
   "cell_type": "markdown",
   "metadata": {
    "slideshow": {
     "slide_type": "slide"
    }
   },
   "source": [
    "## Here is the test (25 points out of 110 for the homework )\n",
    "\n",
    "```Python\n",
    "### BEGIN HIDDEN TESTS\n",
    "def _d1c(s, h=1.0):\n",
    "    \"\"\"Computes a fourth-order accurate difference approximation of the derivative of s\n",
    "    \n",
    "    s: a one-dimensional numpy array\n",
    "    h: a floating point number representing the size of the array step\"\"\"\n",
    "    if not isinstance(s, np.ndarray):\n",
    "        raise TypeError(\"s needs to be a numpy array\")\n",
    "    if not isinstance(h, numbers.Number):\n",
    "        raise TypeError(\"h needs to be a number\") \n",
    "    if h <= 0:\n",
    "        raise ValueError(\"h needs to be positive\")\n",
    "    news = np.zeros(s.shape, np.float64)\n",
    "    \n",
    "    news[2:-2] = (-s[4:] + 8 * s[3:-1] - 8 * s[1:-3] + s[0:-4]) / (12*h)\n",
    "    return news\n",
    "fp2 = lambdify(x, func2(x), \"numpy\")\n",
    "assert_allclose(d1c(fp2(tt), h=0.1), _d1c(fp2(tt), h=0.1))\n",
    "### END HIDDEN TESTS\n",
    "```"
   ]
  },
  {
   "cell_type": "markdown",
   "metadata": {
    "slideshow": {
     "slide_type": "slide"
    }
   },
   "source": [
    "## What went wrong?"
   ]
  },
  {
   "cell_type": "markdown",
   "metadata": {
    "slideshow": {
     "slide_type": "fragment"
    }
   },
   "source": [
    "* The problem is really about slicing arrays and doing array arithmetic but some students got hung up on \"This is calculus and I've never been good at math!\""
   ]
  },
  {
   "cell_type": "markdown",
   "metadata": {
    "slideshow": {
     "slide_type": "fragment"
    }
   },
   "source": [
    "* There are lots of steps that can't be decomposed into testable pieces (all or nothing)"
   ]
  },
  {
   "cell_type": "markdown",
   "metadata": {
    "slideshow": {
     "slide_type": "slide"
    }
   },
   "source": [
    "## What went wrong?\n",
    "\n",
    "* Unanticipated errors\n",
    "\n",
    "About a third of the class programmed a solution that looked like this:\n",
    "\n",
    "$$\n",
    "f_i' \\approx \\Large ( \\frac{-f_{i+2}+8f_{i+1}-8f_{i-1}+f_{i-2}}{12}\\Large)h.\n",
    "$$\n"
   ]
  },
  {
   "cell_type": "markdown",
   "metadata": {
    "slideshow": {
     "slide_type": "slide"
    }
   },
   "source": [
    "# Another Failure"
   ]
  },
  {
   "cell_type": "markdown",
   "metadata": {
    "slideshow": {
     "slide_type": "slide"
    }
   },
   "source": [
    "## Here is the assignment\n",
    "**Problem 1. (20 Points):** Write a function `write_pickle` that saves an object (e.g. our dictionary of lab values) to a compressed pickle file (i.e. use gzip with pickle). Your function should take as a **positional argument** the object to be pickled and as **keyword arguments** the file to write to and a flag `write_over` that if `True` will write over an existing file and if `False` will raise a `FileExistsError`` if a file with that name exists. Test that you can both write and read again a test object (e.g. the parsed lab values from problem 1.)"
   ]
  },
  {
   "cell_type": "markdown",
   "metadata": {
    "slideshow": {
     "slide_type": "slide"
    }
   },
   "source": [
    "## Here is my solution\n",
    "\n",
    "```Python\n",
    "import pickle, gzip\n",
    "\n",
    "### BEGIN SOLUTION\n",
    "\n",
    "def write_pickle(data, fname=\"temp.pickle\", write_over=False):\n",
    "    \"\"\"\n",
    "    \n",
    "    \"\"\"\n",
    "    # now generate output filename\n",
    "    if os.path.exists(fname) and not write_over:\n",
    "        raise FileExistsError(\"%s exists but write_over is set to False\")\n",
    "    with gzip.open(fname, \"wb\") as f0:\n",
    "        pickle.dump(data, f0)\n",
    "    \n",
    "\n",
    "### END SOLUTION \n",
    "```"
   ]
  },
  {
   "cell_type": "markdown",
   "metadata": {
    "slideshow": {
     "slide_type": "slide"
    }
   },
   "source": [
    "## Here are my tests\n",
    "\n",
    "```Python\n",
    "if os.path.exists(\"temp.pickle\"):\n",
    "    os.remove(\"temp.pickle\")\n",
    "write_pickle(\"This is a test\")\n",
    "assert_true(os.path.exists(\"temp.pickle\"))\n",
    "assert_raises(FileExistsError, write_pickle, \"This is a test\", \n",
    "              write_over=False)\n",
    "assert_equal(write_pickle(\"This is a test\", write_over=True), None)\n",
    "os.remove(\"temp.pickle\")\n",
    "```\n",
    "\n",
    "```Python\n",
    "### BEGIN HIDDEN TESTS\n",
    "fname = \"test.pickle\"\n",
    "if os.path.exists(fname):\n",
    "    os.remove(fname)\n",
    "write_pickle(\"This is a test\", fname=fname)\n",
    "def verify(fname):\n",
    "    with gzip.open(fname, \"rb\") as f0:\n",
    "        return pickle.load(f0)\n",
    "assert_equal(verify(\"test.pickle\"), \"This is a test\")\n",
    "os.remove(\"test.pickle\")\n",
    "### END HIDDEN TESTS\n",
    "```"
   ]
  },
  {
   "cell_type": "markdown",
   "metadata": {},
   "source": [
    "## What was the problem?\n",
    "\n",
    "* I told them to use **keyword** arguments but only gave them the name of one keyword argument\n",
    "    * The hidden test fails if they used a different keyword argument name than I used (`fname`)\n",
    "    "
   ]
  },
  {
   "cell_type": "markdown",
   "metadata": {
    "slideshow": {
     "slide_type": "subslide"
    }
   },
   "source": [
    "## Potential fixes: Show the signature of the function\n",
    "```Python\n",
    "import pickle, gzip\n",
    "\n",
    "\n",
    "def write_pickle(data, fname=\"temp.pickle\", write_over=False):\n",
    "    \"\"\"\n",
    "    Save a Python object to a compressed pickle file\n",
    "    \n",
    "    Arguments:\n",
    "        * data: a Python object\n",
    "        * fname: a string representing a valid path to the a file to \n",
    "                 write the pickle file\n",
    "        * write_over: a boolean flag. If True, write_pickle will write over\n",
    "                      an existing file named fname. If False, write_pickle will raise a \n",
    "                      FileExistsError if fname exists.\n",
    "    \"\"\"\n",
    "### BEGIN SOLUTION\n",
    "\n",
    "    # now generate output filename\n",
    "    if os.path.exists(fname) and not write_over:\n",
    "        raise FileExistsError(\"%s exists but write_over is set to False\")\n",
    "    with gzip.open(fname, \"wb\") as f0:\n",
    "        pickle.dump(data, f0)\n",
    "    \n",
    "\n",
    "### END SOLUTION \n",
    "```"
   ]
  },
  {
   "cell_type": "markdown",
   "metadata": {
    "slideshow": {
     "slide_type": "slide"
    }
   },
   "source": [
    "# What have the students liked?\n",
    "\n",
    "## Non-hidden tests\n",
    "\n",
    "* They get immediate feedback as to whether they are right or wrong\n",
    "* Well-written tests can help guide the code writing\n",
    "    * Test-driven development"
   ]
  },
  {
   "cell_type": "markdown",
   "metadata": {
    "slideshow": {
     "slide_type": "slide"
    }
   },
   "source": [
    "# What have the students hated?\n",
    "\n",
    "## Hidden tests!\n",
    "\n"
   ]
  },
  {
   "cell_type": "markdown",
   "metadata": {
    "slideshow": {
     "slide_type": "slide"
    }
   },
   "source": [
    "# What have I liked?\n",
    "\n",
    "## Removing subjectivity in grading on my part\n",
    "## Having the solution written before I distribute the homework &#x263a;\n",
    "## Grading/regrading is fast\n",
    "## Forces me to be more explicit in my instructions (work in progress)"
   ]
  },
  {
   "cell_type": "markdown",
   "metadata": {
    "slideshow": {
     "slide_type": "slide"
    }
   },
   "source": [
    "# What have I disliked?\n",
    "\n",
    "## Can be challenging to design the tests\n",
    "## Not currently linked to Canvas so have to reenter grades manually (working on this)"
   ]
  },
  {
   "cell_type": "code",
   "execution_count": null,
   "metadata": {
    "collapsed": true
   },
   "outputs": [],
   "source": []
  }
 ],
 "metadata": {
  "celltoolbar": "Slideshow",
  "kernelspec": {
   "display_name": "Python 3",
   "language": "python",
   "name": "python3"
  },
  "language_info": {
   "codemirror_mode": {
    "name": "ipython",
    "version": 3
   },
   "file_extension": ".py",
   "mimetype": "text/x-python",
   "name": "python",
   "nbconvert_exporter": "python",
   "pygments_lexer": "ipython3",
   "version": "3.5.2"
  }
 },
 "nbformat": 4,
 "nbformat_minor": 2
}
