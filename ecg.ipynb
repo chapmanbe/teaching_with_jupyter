{
 "cells": [
  {
   "cell_type": "code",
   "execution_count": 2,
   "metadata": {},
   "outputs": [
    {
     "data": {
      "image/jpeg": "[encoded data removed]",
      "text/html": [
       "\n",
       "        <iframe\n",
       "            width=\"800\"\n",
       "            height=\"600\"\n",
       "            src=\"https://www.youtube.com/embed/CJkPW2wt6e8\"\n",
       "            frameborder=\"0\"\n",
       "            allowfullscreen\n",
       "        ></iframe>\n",
       "        "
      ],
      "text/plain": [
       "<IPython.lib.display.YouTubeVideo at 0x7f3824566320>"
      ]
     },
     "execution_count": 2,
     "metadata": {},
     "output_type": "execute_result"
    }
   ],
   "source": [
    "from IPython.display import YouTubeVideo\n",
    "YouTubeVideo(\"CJkPW2wt6e8\", width=800, height=\"600\")"
   ]
  },
  {
   "cell_type": "markdown",
   "metadata": {},
   "source": [
    "# Derivatives and ECG Signals"
   ]
  },
  {
   "cell_type": "code",
   "execution_count": 1,
   "metadata": {
    "collapsed": true
   },
   "outputs": [],
   "source": [
    "%matplotlib inline"
   ]
  },
  {
   "cell_type": "code",
   "execution_count": 2,
   "metadata": {},
   "outputs": [
    {
     "data": {
      "text/plain": [
       "True"
      ]
     },
     "execution_count": 2,
     "metadata": {},
     "output_type": "execute_result"
    }
   ],
   "source": [
    "import numpy as np\n",
    "import numpy.random as ra\n",
    "import matplotlib.pyplot as plt\n",
    "import pandas as pd\n",
    "import os\n",
    "\n",
    "from ipywidgets import interact, interactive, fixed\n",
    "from IPython.display import clear_output, display\n",
    "import ipywidgets as widgets\n",
    "\n",
    "DATADIR = os.path.join(os.path.expanduser(\"~\"),\n",
    "                    \"work\",\n",
    "                    \"Physionet\", \"MITDB\")\n",
    "os.path.exists(DATADIR)"
   ]
  },
  {
   "cell_type": "markdown",
   "metadata": {},
   "source": [
    "## What does an ECG Look LIke?\n",
    "### Here is the perfect ECG\n",
    "<img\n",
    "src=\"https://goo.gl/l4Rlq8\" alt=\"an ECG cartoon\" width=\"384\">"
   ]
  },
  {
   "cell_type": "markdown",
   "metadata": {},
   "source": [
    "### Here are some *real* ECGs"
   ]
  },
  {
   "cell_type": "code",
   "execution_count": 14,
   "metadata": {
    "collapsed": true
   },
   "outputs": [],
   "source": [
    "ecg_files = os.listdir(DATADIR)"
   ]
  },
  {
   "cell_type": "code",
   "execution_count": 17,
   "metadata": {},
   "outputs": [
    {
     "data": {
      "application/vnd.jupyter.widget-view+json": {
       "model_id": "e0df6b9f51b746f8a9f6431f54e88f17"
      }
     },
     "metadata": {},
     "output_type": "display_data"
    }
   ],
   "source": [
    "def get_series(f):\n",
    "    \n",
    "    data = \\\n",
    "    pd.read_table(f, header=None).apply(\n",
    "        lambda x: (x - np.mean(x)) / (np.max(x) - np.min(x)))\n",
    "    return data\n",
    "def _view_series(root=\"\", f=\"\", num_points=200, color=\"red\"):\n",
    "    data = get_series(os.path.join(root,f))\n",
    "    plt.plot(data[1][:num_points], color=color)\n",
    "    plt.show()\n",
    "interactive_plot = interactive(_view_series, root=fixed(DATADIR), \n",
    "                               f=ecg_files, \n",
    "                               num_points=(100, 10000, 50),\n",
    "                               color=[\"red\", \"purple\", \"blue\"])\n",
    "output = interactive_plot.children[-1]\n",
    "output.layout.height = '250px'\n",
    "interactive_plot\n"
   ]
  },
  {
   "cell_type": "markdown",
   "metadata": {},
   "source": [
    "## Hiding code details with a module"
   ]
  },
  {
   "cell_type": "code",
   "execution_count": 18,
   "metadata": {},
   "outputs": [
    {
     "data": {
      "application/vnd.jupyter.widget-view+json": {
       "model_id": "eb63dc3285c448c3841b20ea0bebdee7"
      }
     },
     "metadata": {},
     "output_type": "display_data"
    }
   ],
   "source": [
    "import ecg\n",
    "\n",
    "interactive_plot = interactive(ecg._view_series, root=fixed(DATADIR), \n",
    "                               f=ecg_files, \n",
    "                               num_points=(200, 10000, 50),\n",
    "                               color=[\"red\", \"green\", \"blue\"])\n",
    "output = interactive_plot.children[-1]\n",
    "output.layout.height = '250px'\n",
    "interactive_plot\n"
   ]
  },
  {
   "cell_type": "markdown",
   "metadata": {
    "collapsed": true
   },
   "source": [
    "### What do the raw data look like?"
   ]
  },
  {
   "cell_type": "code",
   "execution_count": 19,
   "metadata": {},
   "outputs": [
    {
     "data": {
      "text/html": [
       "<div>\n",
       "<table border=\"1\" class=\"dataframe\">\n",
       "  <thead>\n",
       "    <tr style=\"text-align: right;\">\n",
       "      <th></th>\n",
       "      <th>0</th>\n",
       "      <th>1</th>\n",
       "      <th>2</th>\n",
       "    </tr>\n",
       "  </thead>\n",
       "  <tbody>\n",
       "    <tr>\n",
       "      <th>0</th>\n",
       "      <td>-0.500000</td>\n",
       "      <td>0.038867</td>\n",
       "      <td>0.034156</td>\n",
       "    </tr>\n",
       "    <tr>\n",
       "      <th>1</th>\n",
       "      <td>-0.499998</td>\n",
       "      <td>0.038867</td>\n",
       "      <td>0.034156</td>\n",
       "    </tr>\n",
       "    <tr>\n",
       "      <th>2</th>\n",
       "      <td>-0.499997</td>\n",
       "      <td>0.038867</td>\n",
       "      <td>0.034156</td>\n",
       "    </tr>\n",
       "    <tr>\n",
       "      <th>3</th>\n",
       "      <td>-0.499995</td>\n",
       "      <td>0.038867</td>\n",
       "      <td>0.034156</td>\n",
       "    </tr>\n",
       "    <tr>\n",
       "      <th>4</th>\n",
       "      <td>-0.499994</td>\n",
       "      <td>0.038867</td>\n",
       "      <td>0.034156</td>\n",
       "    </tr>\n",
       "  </tbody>\n",
       "</table>\n",
       "</div>"
      ],
      "text/plain": [
       "          0         1         2\n",
       "0 -0.500000  0.038867  0.034156\n",
       "1 -0.499998  0.038867  0.034156\n",
       "2 -0.499997  0.038867  0.034156\n",
       "3 -0.499995  0.038867  0.034156\n",
       "4 -0.499994  0.038867  0.034156"
      ]
     },
     "execution_count": 19,
     "metadata": {},
     "output_type": "execute_result"
    }
   ],
   "source": [
    "data = get_series(os.path.join(DATADIR, \"100.txt\"))\n",
    "data.head()"
   ]
  },
  {
   "cell_type": "markdown",
   "metadata": {},
   "source": [
    "## Controlling figure layout with [subplots](http://matplotlib.org/api/pyplot_api.html#matplotlib.pyplot.subplots)"
   ]
  },
  {
   "cell_type": "code",
   "execution_count": 20,
   "metadata": {},
   "outputs": [
    {
     "data": {
      "text/plain": [
       "[<matplotlib.lines.Line2D at 0x7fb788bf8198>]"
      ]
     },
     "execution_count": 20,
     "metadata": {},
     "output_type": "execute_result"
    },
    {
     "data": {
      "image/png": "[encoded data removed]",
      "text/plain": [
       "<matplotlib.figure.Figure at 0x7fb788b4aa90>"
      ]
     },
     "metadata": {},
     "output_type": "display_data"
    }
   ],
   "source": [
    "f, ax = plt.subplots(3,1)\n",
    "f.set_size_inches(8,12)\n",
    "t = data[0][:600]\n",
    "s = data[1][:600]\n",
    "ax[0].plot(t, s, 'b')\n",
    "ax[1].plot(t, np.gradient(s), 'r')\n",
    "ax[2].plot(t, np.gradient(np.gradient(s)), 'g')"
   ]
  },
  {
   "cell_type": "markdown",
   "metadata": {},
   "source": [
    "## The Data are Noisy \n",
    "#### Computing derivatives tends to be sensitive to noise\n",
    "#### Try smoothing first\n",
    "\n",
    "The SciPy package has a number of functions for smoothing signals and images. The [signal](http://docs.scipy.org/doc/scipy/reference/signal.html) module includes common one-dimensional filtering functions. The [ndimage.filters](scipy.ndimage.filters) module includes a number of functions for smoothing N-dimensional signals; the name is derived from 2D signals (images)."
   ]
  },
  {
   "cell_type": "code",
   "execution_count": 21,
   "metadata": {
    "collapsed": true
   },
   "outputs": [],
   "source": [
    "import scipy.signal as signal\n",
    "import scipy.ndimage.filters as filters"
   ]
  },
  {
   "cell_type": "markdown",
   "metadata": {},
   "source": [
    "#### We will explore two smooth functions\n",
    "\n",
    "* [Median smoothing](http://docs.scipy.org/doc/scipy/reference/generated/scipy.signal.medfilt.html#scipy.signal.medfilt)\n",
    "* [Gaussian smoothing](http://docs.scipy.org/doc/scipy-0.16.1/reference/generated/scipy.ndimage.filters.gaussian_filter.html)"
   ]
  },
  {
   "cell_type": "markdown",
   "metadata": {},
   "source": [
    "### Median Filtering\n",
    "\n",
    "#### What is the median of \n",
    "\n",
    "* 1, 5, 3, 7, 2?\n",
    "\n",
    "Median filtering is a kind of non-linear filtering that is good at preserving edges and other discontinuities in the data. The [medfilter]() function takes a positional argument that is the signal that you want to filter (smooth) and a keyword argument ``kernel_size`` (default 3) that defines how many points you want to use to calculate the median.\n",
    "\n",
    "![Median Filter algorithm](https://upload.wikimedia.org/wikipedia/commons/f/f4/Median_filter_pseudocode.png)\n",
    "\n",
    "![Example median filter](https://upload.wikimedia.org/wikipedia/commons/1/1d/Medianfilterp.png)"
   ]
  },
  {
   "cell_type": "markdown",
   "metadata": {},
   "source": [
    "### Play with changing `kernel_width`\n",
    "\n",
    "I relied on [this](https://github.com/jupyter-widgets/ipywidgets/issues/1198) discussion on GitHub to figure out the interactive plot."
   ]
  },
  {
   "cell_type": "code",
   "execution_count": 22,
   "metadata": {
    "format": "row"
   },
   "outputs": [
    {
     "data": {
      "application/vnd.jupyter.widget-view+json": {
       "model_id": "def0fa483d9542f8988438f6f665e1c5"
      }
     },
     "metadata": {},
     "output_type": "display_data"
    }
   ],
   "source": [
    "from ipywidgets import Button, HBox, VBox\n",
    "def smooth_derivatives(root=fixed(DATADIR), \n",
    "                       file=ecg_files,\n",
    "                       start=0,\n",
    "                       num_points=500,\n",
    "                       width=3):\n",
    "    data = get_series(os.path.join(root,file))\n",
    "\n",
    "    t = data[0]\n",
    "    s = signal.medfilt(data[1], kernel_size=width)\n",
    "\n",
    "    plt.plot(t[start:start+num_points], s[start:start+num_points], color=\"red\")\n",
    "    plt.show()\n",
    "\n",
    "interactive_plot2 = interactive(smooth_derivatives, root=fixed(DATADIR), \n",
    "                               file=ecg_files, \n",
    "                               width=(1,13,2),\n",
    "                               start=(0,10000,100),\n",
    "                               num_points=(200, 10000, 50))\n",
    "h1 = HBox([interactive_plot2.children[0], interactive_plot2.children[1]])\n",
    "h2 = HBox([interactive_plot2.children[3], interactive_plot2.children[2]])\n",
    "v1 = VBox([h1, h2, interactive_plot2.children[-1]])\n",
    "display(v1)\n",
    "interactive_plot2.update()"
   ]
  },
  {
   "cell_type": "markdown",
   "metadata": {},
   "source": [
    "### Gaussian Smoothing\n",
    "\n",
    "The [``gaussian_filter``](). Smoothing with the Gaussian function is described as a convolution of the original signal with a Gaussian function.\n",
    "\n",
    "### What is convolution\n",
    "\n",
    "![Visualization of convolution](https://goo.gl/FWGliL)\n",
    "\n",
    "Convolutions is a function that takes as input two signals ($f$) and ($g$) and returns as output a new signal that is obtained by  \n",
    "1. flipping $f$\n",
    "1. shifting $g1$\n",
    "2. multiplying the shifted and flipped $f$ by $g$.\n",
    "1. summing up the value sof the multiplication.\n",
    "\n",
    "This can be written mathematically as\n",
    "\n",
    "$$\n",
    "(f * g)(t) \\overset{\\Delta}{=} \\int_{-\\infty}^\\infty f(t-\\tau)g(\\tau)d\\tau\n",
    "$$"
   ]
  },
  {
   "cell_type": "markdown",
   "metadata": {},
   "source": [
    "### What is a [Gaussian](https://en.wikipedia.org/wiki/Gaussian_function)\n",
    "\n",
    "The Gaussian is a function that you will encounter over and over.\n",
    "\n",
    "SciPy has a [Gaussian window function](http://docs.scipy.org/doc/scipy/reference/generated/scipy.signal.gaussian.html)"
   ]
  },
  {
   "cell_type": "code",
   "execution_count": 12,
   "metadata": {},
   "outputs": [
    {
     "data": {
      "text/plain": [
       "[<matplotlib.lines.Line2D at 0x7fb788b1dba8>]"
      ]
     },
     "execution_count": 12,
     "metadata": {},
     "output_type": "execute_result"
    },
    {
     "data": {
      "image/png": "[encoded data removed]",
      "text/plain": [
       "<matplotlib.figure.Figure at 0x7fb788aaa358>"
      ]
     },
     "metadata": {},
     "output_type": "display_data"
    }
   ],
   "source": [
    "plt.plot(signal.gaussian(100,10))"
   ]
  },
  {
   "cell_type": "markdown",
   "metadata": {},
   "source": [
    "### Why might this be a good function for smoothing?"
   ]
  },
  {
   "cell_type": "markdown",
   "metadata": {
    "collapsed": true
   },
   "source": [
    "### Make an Interactive Exploration of the Gaussian Derivatives\n",
    "\n",
    "* Use the [scipy.ndimage.filters.gaussian_filter](https://docs.scipy.org/doc/scipy-0.18.1/reference/generated/scipy.ndimage.gaussian_filter.html#scipy.ndimage.gaussian_filter)"
   ]
  },
  {
   "cell_type": "code",
   "execution_count": 23,
   "metadata": {},
   "outputs": [
    {
     "data": {
      "application/vnd.jupyter.widget-view+json": {
       "model_id": "dd44aad5495848d7a79fc86aeac1aaba"
      }
     },
     "metadata": {},
     "output_type": "display_data"
    }
   ],
   "source": [
    "from ipywidgets import Button, HBox, VBox\n",
    "def scalespace(root=fixed(DATADIR), \n",
    "                               file=ecg_files, \n",
    "                               num_points=500,\n",
    "                               gaussian_width=0.1,\n",
    "                               filter_order=0):\n",
    "    data = get_series(os.path.join(root,file))\n",
    "    t = data[0]\n",
    "    s = data[1]\n",
    "    plt.plot(t[:num_points], \n",
    "             filters.gaussian_filter(s, gaussian_width, order=filter_order)[:num_points], \n",
    "             'b')\n",
    "    plt.show()\n",
    "\n",
    "interactive_plot3 = interactive(scalespace, root=fixed(DATADIR), \n",
    "                               file=ecg_files, \n",
    "                               gaussian_width=(0.5,4,0.2),\n",
    "                               filter_order=[0,1,2],\n",
    "                               num_points=(200, 10000, 50))\n",
    "\n",
    "h1b = HBox([interactive_plot3.children[0], interactive_plot3.children[3]])\n",
    "h2b = HBox([interactive_plot3.children[1], interactive_plot3.children[2]])\n",
    "v1b = VBox([h1b, h2b, interactive_plot3.children[-1]])\n",
    "display(v1b)\n",
    "interactive_plot3.update()"
   ]
  },
  {
   "cell_type": "code",
   "execution_count": null,
   "metadata": {
    "collapsed": true
   },
   "outputs": [],
   "source": []
  }
 ],
 "metadata": {
  "kernelspec": {
   "display_name": "Python 3",
   "language": "python",
   "name": "python3"
  },
  "language_info": {
   "codemirror_mode": {
    "name": "ipython",
    "version": 3
   },
   "file_extension": ".py",
   "mimetype": "text/x-python",
   "name": "python",
   "nbconvert_exporter": "python",
   "pygments_lexer": "ipython3",
   "version": "3.5.2"
  },
  "widgets": {
   "state": {
    "bb378893a5024e8b97156b0e54458aa7": {
     "views": [
      {
       "cell_index": 2
      }
     ]
    }
   },
   "version": "1.2.0"
  }
 },
 "nbformat": 4,
 "nbformat_minor": 1
}
