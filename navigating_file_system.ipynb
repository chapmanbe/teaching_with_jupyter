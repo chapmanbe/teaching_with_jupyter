{
 "cells": [
  {
   "cell_type": "code",
   "execution_count": 3,
   "metadata": {},
   "outputs": [
    {
     "data": {
      "image/jpeg": "[encoded data removed]",
      "text/html": [
       "\n",
       "        <iframe\n",
       "            width=\"800\"\n",
       "            height=\"600\"\n",
       "            src=\"https://www.youtube.com/embed/R7exh2PSyWM\"\n",
       "            frameborder=\"0\"\n",
       "            allowfullscreen\n",
       "        ></iframe>\n",
       "        "
      ],
      "text/plain": [
       "<IPython.lib.display.YouTubeVideo at 0x7f2cff5a3f28>"
      ]
     },
     "execution_count": 3,
     "metadata": {},
     "output_type": "execute_result"
    }
   ],
   "source": [
    "from IPython.display import YouTubeVideo\n",
    "YouTubeVideo(\"R7exh2PSyWM\", width=800, height=\"600\")   "
   ]
  },
  {
   "cell_type": "markdown",
   "metadata": {},
   "source": [
    "\n",
    "# DeCART Summer School\n"
   ]
  },
  {
   "cell_type": "markdown",
   "metadata": {},
   "source": [
    "# Navigating the File System\n",
    "\n",
    "In this notebook, I'm going to demonstrate some basic Unix/Linux commands for moving around in the file system. I can tell the notebook that the code cell should be a bash cell instead of a Python cell by typing ``%%bash`` at the top of the cell.\n",
    "\n",
    "#### As an historical note, Unix was created in an era where short variable names were paramount, thus many of these commands have very short names which are abbreviations of what they are doing.\n",
    "\n",
    "\n",
    "The Linux file system starts with the **root** directory that is denoted by a forward slash **/**. Their are a number of standard **subdirectories**, such as **bin**, **sbin**, and **home**. The below image is an example of a typical Unix/Linux directory tree.\n",
    "\n",
    "![The Linux file system](https://upload.wikimedia.org/wikipedia/commons/f/f3/Standard-unix-filesystem-hierarchy.svg)"
   ]
  },
  {
   "cell_type": "markdown",
   "metadata": {
    "collapsed": true
   },
   "source": [
    "## Changing Directories\n",
    "\n",
    "You change where you are in the file system by changing directories with the ``cd`` command (**c**hange **d**irectory).\n",
    "\n",
    "``cd`` takes as the argument the name of the directory you want to change to:\n",
    "\n",
    "```bash\n",
    "cd SOME_DIRECTORY\n",
    "```\n",
    "\n",
    "### Special Directory Names\n",
    "\n",
    "#### Nothing (Empty String)\n",
    "\n",
    "For ``cd`` an argument of nothing stands for your **home directory**, so if I simply type \n",
    "\n",
    "```bash\n",
    "cd\n",
    "``` \n",
    "I will be taken to my home directory\n",
    "\n",
    "#### ``~``\n",
    "\n",
    "The ampersand is an **alias** for your home directory, so typing \n",
    "\n",
    "```bash\n",
    "cd ~\n",
    "``` \n",
    "\n",
    "will also take me to my home directory. But ``~`` can be combined with other directories so I can type \n",
    "```bash\n",
    "cd ~/DATA/DBs\n",
    "```\n",
    "which will take me to the DATA/DBs directory that sits in my home directory.\n",
    "\n",
    "#### ``.``\n",
    "\n",
    "A single dot stands for the current directory, so \n",
    "```bash\n",
    "cd .\n",
    "``` \n",
    "\n",
    "does not take me anywhere.\n",
    "\n",
    "##### ``..``\n",
    "\n",
    "Two dots stands for the parent directory (the directory immediately above your current directory). So if I am currently in the directory\n",
    "\n",
    "```bash\n",
    "/home/jovyan/DATA/DBs\n",
    "```\n",
    "\n",
    "typing\n",
    "```bash\n",
    "cd ..\n",
    "```\n",
    "\n",
    "will take me to \n",
    "\n",
    "```bash\n",
    "/home/jovyan/DATA\n",
    "```\n",
    "\n",
    "#### ``/``\n",
    "\n",
    "A single forward slash stands for the **root directory** which is the very top of the file system."
   ]
  },
  {
   "cell_type": "code",
   "execution_count": 1,
   "metadata": {
    "collapsed": true
   },
   "outputs": [],
   "source": [
    "%%bash\n",
    "cd ~"
   ]
  },
  {
   "cell_type": "markdown",
   "metadata": {},
   "source": [
    "## Where Am I?\n",
    "\n",
    "If you get lost and don't remember where you are, you can type ``pwd`` which stands for **p**rint the **w**orking **d**irectory."
   ]
  },
  {
   "cell_type": "code",
   "execution_count": 2,
   "metadata": {},
   "outputs": [
    {
     "name": "stdout",
     "output_type": "stream",
     "text": [
      "/home/jovyan/work/teaching_with_jupyter\n"
     ]
    }
   ],
   "source": [
    "%%bash\n",
    "pwd"
   ]
  },
  {
   "cell_type": "markdown",
   "metadata": {},
   "source": [
    "If you forget who you are, you can type ``whoami`` which will tell you your username."
   ]
  },
  {
   "cell_type": "code",
   "execution_count": 3,
   "metadata": {},
   "outputs": [
    {
     "name": "stdout",
     "output_type": "stream",
     "text": [
      "jovyan\n"
     ]
    }
   ],
   "source": [
    "%%bash\n",
    "whoami"
   ]
  },
  {
   "cell_type": "markdown",
   "metadata": {},
   "source": [
    "## Listing Directory Content\n",
    "\n",
    "If I want to list (show) what is in a direcotry, I use the ``ls`` (**l**i**s**t) command. As with most Unix commands, I can provide **options** to the function that change how it works:\n",
    "\n",
    "* ``ls -a``: list **all** files, including hidden files and directories\n",
    "* ``ls -l``: list in the **long** view providing more details\n",
    "* ``ls -lt``: list in the long view and **sort by time**\n",
    "* ``ls -lSr``: list in the long view, **sort by size** and list in **reverse** order."
   ]
  },
  {
   "cell_type": "code",
   "execution_count": 4,
   "metadata": {},
   "outputs": [
    {
     "name": "stdout",
     "output_type": "stream",
     "text": [
      "autograded\n",
      "docs\n",
      "ecg.ipynb\n",
      "feedback\n",
      "gradebook.db\n",
      "introducing_notebooks_code.ipynb\n",
      "introducing_notebooks.ipynb\n",
      "introducing_notebooks_markdown.ipynb\n",
      "mohan.png\n",
      "multimedia.ipynb\n",
      "navigating_file_system.ipynb\n",
      "PlayingWithNumbers.ipynb\n",
      "python_crash_course.ipynb\n",
      "quizzes\n",
      "README.md\n",
      "release\n",
      "ROADMAP.ipynb\n",
      "scripts\n",
      "source\n",
      "submitted\n",
      "suffering.ipynb\n",
      "using_reveal.ipynb\n"
     ]
    }
   ],
   "source": [
    "%%bash \n",
    "ls"
   ]
  },
  {
   "cell_type": "code",
   "execution_count": 5,
   "metadata": {},
   "outputs": [
    {
     "name": "stdout",
     "output_type": "stream",
     "text": [
      ".\n",
      "..\n",
      "autograded\n",
      "docs\n",
      "ecg.ipynb\n",
      "feedback\n",
      ".git\n",
      "gradebook.db\n",
      "introducing_notebooks_code.ipynb\n",
      "introducing_notebooks.ipynb\n",
      "introducing_notebooks_markdown.ipynb\n",
      ".ipynb_checkpoints\n",
      "mohan.png\n",
      "multimedia.ipynb\n",
      "navigating_file_system.ipynb\n",
      ".nbgrader.log\n",
      "PlayingWithNumbers.ipynb\n",
      "python_crash_course.ipynb\n",
      "quizzes\n",
      "README.md\n",
      "release\n",
      "ROADMAP.ipynb\n",
      "scripts\n",
      "source\n",
      "submitted\n",
      "suffering.ipynb\n",
      "using_reveal.ipynb\n"
     ]
    }
   ],
   "source": [
    "%%bash\n",
    "ls -a"
   ]
  },
  {
   "cell_type": "code",
   "execution_count": 6,
   "metadata": {},
   "outputs": [
    {
     "name": "stdout",
     "output_type": "stream",
     "text": [
      "total 1596\n",
      "drwxr-xr-x 15 jovyan users    510 Nov  2 17:16 autograded\n",
      "drwxr-xr-x  3 jovyan users    102 Nov  2 17:57 docs\n",
      "-rw-r--r--  1 jovyan users 341060 Nov  2 16:20 ecg.ipynb\n",
      "drwxr-xr-x 15 jovyan users    510 Nov  2 17:46 feedback\n",
      "-rw-r--r--  1 jovyan users 196608 Nov  2 17:58 gradebook.db\n",
      "-rw-r--r--  1 jovyan users   7303 Nov  2 07:00 introducing_notebooks_code.ipynb\n",
      "-rw-r--r--  1 jovyan users  11296 Nov  2 06:54 introducing_notebooks.ipynb\n",
      "-rw-r--r--  1 jovyan users   8219 Nov  2 18:17 introducing_notebooks_markdown.ipynb\n",
      "-rw-r--r--  1 jovyan users 836257 Oct 31 05:51 mohan.png\n",
      "-rw-r--r--  1 jovyan users  31990 Nov  2 16:35 multimedia.ipynb\n",
      "-rw-r--r--  1 jovyan users  25507 Nov  2 16:43 navigating_file_system.ipynb\n",
      "-rw-r--r--  1 jovyan users  89076 Nov  2 16:48 PlayingWithNumbers.ipynb\n",
      "-rw-r--r--  1 jovyan users  27369 Nov  2 04:50 python_crash_course.ipynb\n",
      "drwxr-xr-x  6 jovyan users    204 Nov  2 16:42 quizzes\n",
      "-rw-r--r--  1 jovyan users     23 Oct 30 22:44 README.md\n",
      "drwxr-xr-x  3 jovyan users    102 Nov  2 17:31 release\n",
      "-rw-r--r--  1 jovyan users   1677 Nov  2 17:34 ROADMAP.ipynb\n",
      "drwxr-xr-x 20 jovyan users    680 Nov  2 17:45 scripts\n",
      "drwxr-xr-x  3 jovyan users    102 Nov  2 05:16 source\n",
      "drwxr-xr-x 15 jovyan users    510 Nov  2 17:16 submitted\n",
      "-rw-r--r--  1 jovyan users   6304 Nov  2 16:26 suffering.ipynb\n",
      "-rw-r--r--  1 jovyan users  23495 Nov  2 18:24 using_reveal.ipynb\n"
     ]
    }
   ],
   "source": [
    "%%bash\n",
    "ls -l"
   ]
  },
  {
   "cell_type": "code",
   "execution_count": 7,
   "metadata": {},
   "outputs": [
    {
     "name": "stdout",
     "output_type": "stream",
     "text": [
      "total 1596\n",
      "-rw-r--r--  1 jovyan users  23495 Nov  2 18:24 using_reveal.ipynb\n",
      "-rw-r--r--  1 jovyan users   8219 Nov  2 18:17 introducing_notebooks_markdown.ipynb\n",
      "-rw-r--r--  1 jovyan users 196608 Nov  2 17:58 gradebook.db\n",
      "drwxr-xr-x  3 jovyan users    102 Nov  2 17:57 docs\n",
      "drwxr-xr-x 15 jovyan users    510 Nov  2 17:46 feedback\n",
      "drwxr-xr-x 20 jovyan users    680 Nov  2 17:45 scripts\n",
      "-rw-r--r--  1 jovyan users   1677 Nov  2 17:34 ROADMAP.ipynb\n",
      "drwxr-xr-x  3 jovyan users    102 Nov  2 17:31 release\n",
      "drwxr-xr-x 15 jovyan users    510 Nov  2 17:16 autograded\n",
      "drwxr-xr-x 15 jovyan users    510 Nov  2 17:16 submitted\n",
      "-rw-r--r--  1 jovyan users  89076 Nov  2 16:48 PlayingWithNumbers.ipynb\n",
      "-rw-r--r--  1 jovyan users  25507 Nov  2 16:43 navigating_file_system.ipynb\n",
      "drwxr-xr-x  6 jovyan users    204 Nov  2 16:42 quizzes\n",
      "-rw-r--r--  1 jovyan users  31990 Nov  2 16:35 multimedia.ipynb\n",
      "-rw-r--r--  1 jovyan users   6304 Nov  2 16:26 suffering.ipynb\n",
      "-rw-r--r--  1 jovyan users 341060 Nov  2 16:20 ecg.ipynb\n",
      "-rw-r--r--  1 jovyan users   7303 Nov  2 07:00 introducing_notebooks_code.ipynb\n",
      "-rw-r--r--  1 jovyan users  11296 Nov  2 06:54 introducing_notebooks.ipynb\n",
      "drwxr-xr-x  3 jovyan users    102 Nov  2 05:16 source\n",
      "-rw-r--r--  1 jovyan users  27369 Nov  2 04:50 python_crash_course.ipynb\n",
      "-rw-r--r--  1 jovyan users 836257 Oct 31 05:51 mohan.png\n",
      "-rw-r--r--  1 jovyan users     23 Oct 30 22:44 README.md\n"
     ]
    }
   ],
   "source": [
    "%%bash\n",
    "ls -lt"
   ]
  },
  {
   "cell_type": "code",
   "execution_count": null,
   "metadata": {
    "collapsed": true
   },
   "outputs": [],
   "source": [
    "%%bash\n",
    "ls -lSr "
   ]
  },
  {
   "cell_type": "markdown",
   "metadata": {},
   "source": [
    "### Using Python for quizzes \n",
    "\n",
    "We're going to import some Python code here that we will use later to evaluate quizzes."
   ]
  },
  {
   "cell_type": "code",
   "execution_count": null,
   "metadata": {
    "collapsed": true
   },
   "outputs": [],
   "source": [
    "from IPython.display import YouTubeVideo\n",
    "YouTubeVideo(\"REzAQs21h0Y\", width=800, height=\"600\") "
   ]
  },
  {
   "cell_type": "code",
   "execution_count": 2,
   "metadata": {
    "collapsed": true
   },
   "outputs": [],
   "source": [
    "import quizzes.navigating_quizzes as navigating_quizzes"
   ]
  },
  {
   "cell_type": "markdown",
   "metadata": {},
   "source": [
    "## Exercise\n",
    "\n",
    "[Open a bash terminal](./launching_terminal.ipynb).\n",
    "\n",
    "### Use the ``cd`` and ``ls`` functions to answer the following questions\n",
    "\n",
    "1. How many unhidden files are located in ``/home/jovyan/DATA/Misc`` ? Change ``number_of_files = -1`` to the number you counted.\n",
    "1. What is the largest file located in ``/home/jovyan/DATA/Misc`` ? Change ``largest_file = \"None\"`` to the file name.\n",
    "1. What is the most recently modified file in ``/home/jovyan/DATA/Misc`` ? Change ``most_recent_file = \"None\"`` to the file name."
   ]
  },
  {
   "cell_type": "code",
   "execution_count": 14,
   "metadata": {
    "scrolled": true
   },
   "outputs": [
    {
     "name": "stdout",
     "output_type": "stream",
     "text": [
      "/home/jovyan/DATA/Misc\n",
      "total 808160\n",
      "drwxr-xr-x 148 jovyan users      5032 Oct 21 05:32 BabyNames\n",
      "-rwxr-xr-x   1 jovyan users  52904643 Oct 25  2016 RePORTER_PRJ_C_FY2015.zip\n",
      "-rwxr-xr-x   1 jovyan users      8823 Oct 19  2016 v1Rem.xlsx\n",
      "-rwxr-xr-x   1 jovyan users      1687 Oct 18  2016 elevation2.txt\n",
      "-rwxr-xr-x   1 jovyan users     25600 Oct 18  2016 seinfeldFood.sqlite\n",
      "-rwxr-xr-x   1 jovyan users     88113 Oct 18  2016 pah_comorbidities.txt\n",
      "-rwxr-xr-x   1 jovyan users     49361 Oct  4  2016 carotid.txt\n",
      "-rwxr-xr-x   1 jovyan users      2745 Oct  4  2016 obits.txt\n",
      "-rwxr-xr-x   1 jovyan users      7057 Oct  4  2016 top100-icd9.txt\n",
      "-rwxr-xr-x   1 jovyan users         0 Oct  4  2016 mytestFile4.txt\n",
      "-rwxr-xr-x   1 jovyan users     89549 Jul 12  2016 pah_pandas.pickle\n",
      "-rwxr-xr-x   1 jovyan users  15205934 Jul  8  2016 bmi_faculty_papers_details.json\n",
      "-rwxr-xr-x   1 jovyan users   4060989 Jul  8  2016 doid.obo\n",
      "-rwxr-xr-x   1 jovyan users     47428 Jun 14  2016 icd9-short.txt\n",
      "-rwxr-xr-x   1 jovyan users 755035667 May 20  2016 Accidents7904.csv\n"
     ]
    }
   ],
   "source": [
    "%%bash\n",
    "cd /home/jovyan/DATA/Misc\n",
    "pwd\n",
    "#ls -lS\n",
    "ls -lt\n",
    "\n"
   ]
  },
  {
   "cell_type": "code",
   "execution_count": 15,
   "metadata": {
    "collapsed": true
   },
   "outputs": [],
   "source": [
    "number_of_files = 15\n",
    "largest_file = \"Accidents7904.csv\"\n",
    "most_recent_file = \"BabyNames\""
   ]
  },
  {
   "cell_type": "code",
   "execution_count": 16,
   "metadata": {},
   "outputs": [
    {
     "name": "stdout",
     "output_type": "stream",
     "text": [
      "your number of files answer is correct\n",
      "your largest file answer is correct\n",
      "your most recent answer is correct\n"
     ]
    }
   ],
   "source": [
    "navigating_quizzes.ls_quiz(number_of_files, largest_file, most_recent_file)"
   ]
  },
  {
   "cell_type": "markdown",
   "metadata": {},
   "source": [
    "## Creating and Removing Directories\n",
    "\n",
    "### ``mkdir``\n",
    "\n",
    "``mkdir`` stands for **m**a**k**e **dir**ectory\n",
    "\n",
    "**Note:** You cannot make a directory that already exists.\n",
    "\n",
    "### ``mkdir -p``\n",
    "\n",
    "Makes directories and sub-directories at the same time \n",
    "\n",
    "\n",
    "#### Compare these two commands"
   ]
  },
  {
   "cell_type": "code",
   "execution_count": null,
   "metadata": {
    "collapsed": true
   },
   "outputs": [],
   "source": [
    "%%bash\n",
    "mkdir Test1/test1_a"
   ]
  },
  {
   "cell_type": "code",
   "execution_count": null,
   "metadata": {
    "collapsed": true
   },
   "outputs": [],
   "source": [
    "%%bash\n",
    "mkdir -p Test1/test1_a\n",
    "ls\n",
    "cd Test1\n",
    "pwd\n",
    "ls"
   ]
  },
  {
   "cell_type": "markdown",
   "metadata": {},
   "source": [
    "### ``rmdir``\n",
    "\n",
    "``rmdir`` stands for **r**e**m**ove **dir**ectory: removes an **empty** directory\n",
    "### ``rm -r``\n",
    "\n",
    "recursively remove all the contents of a directory structure, including itself (directories do not need to be empty)\n"
   ]
  },
  {
   "cell_type": "code",
   "execution_count": null,
   "metadata": {
    "collapsed": true
   },
   "outputs": [],
   "source": [
    "%%bash\n",
    "pwd\n",
    "rmdir Test1"
   ]
  },
  {
   "cell_type": "code",
   "execution_count": null,
   "metadata": {
    "collapsed": true
   },
   "outputs": [],
   "source": [
    "%%bash\n",
    "rm -r  Test1\n",
    "ls"
   ]
  },
  {
   "cell_type": "markdown",
   "metadata": {},
   "source": [
    "#### Why does the following command fail?"
   ]
  },
  {
   "cell_type": "code",
   "execution_count": null,
   "metadata": {
    "collapsed": true
   },
   "outputs": [],
   "source": [
    "%%bash\n",
    "rmdir test_mkdirp"
   ]
  },
  {
   "cell_type": "markdown",
   "metadata": {},
   "source": [
    "#### Why does the following command work?"
   ]
  },
  {
   "cell_type": "code",
   "execution_count": null,
   "metadata": {
    "collapsed": true
   },
   "outputs": [],
   "source": [
    "%%bash\n",
    "rm -r test_mkdirp"
   ]
  },
  {
   "cell_type": "markdown",
   "metadata": {},
   "source": [
    "### Tip: Avoiding Spaces in Names\n",
    "\n",
    "While a space is a perfectly legal character for a file or directory name in Unix, the use of spaces will greatly complicate your life. I would recommend avoiding spaces and use one of the following strategies:\n",
    "\n",
    "* **Use underlines:** instead of \"Brian Chapman\" use \"Brian_Chapman\"\n",
    "* **Use \"camel case\":** instead of writing \"social media\" use \"SocialMedia\"\n",
    "* **Use periods:** instead of \"Brian Chapman\" use \"Brian.Chapman\""
   ]
  },
  {
   "cell_type": "markdown",
   "metadata": {},
   "source": [
    "## Exercise\n",
    "\n",
    "You are starting a new study that is interested in detecting outbreaks of ???, either through an act of bioterrism (e.g. release of anthrax at a football game) or a natural disease. You would like to use existing data sources to gain situational awareness in your community. You have access to  four types of data for your study and are going to store retrospective data files to guide development of new surveillance tools. What can you monitor from these sources of data and how might they help you understand when a change of concern occurs in your community?\n",
    "\n",
    "1. Obituaries from the local newspaper\n",
    "1. Over-the-counter sales records from local drug stores\n",
    "1. Chief Complaints from emergency room visits\n",
    "1. Social Media (i.e., Twitter tweets)\n",
    "[Open a bash terminal](./launching_terminal.ipynb).\n",
    "\n",
    "### Use the ``mkdir`` function to create the following directory tree in ``/home/jovyan/work``\n",
    "\n",
    "![mkdir tree](mkdir_tree.png)\n",
    "\n",
    "### Try to use the minimum number of commands you can to create this directory tree"
   ]
  },
  {
   "cell_type": "code",
   "execution_count": null,
   "metadata": {
    "collapsed": true
   },
   "outputs": [],
   "source": [
    "%%bash\n",
    "ls -ltr /home/jovyan/DATA/Misc"
   ]
  },
  {
   "cell_type": "markdown",
   "metadata": {},
   "source": [
    "### Test Your Results"
   ]
  },
  {
   "cell_type": "code",
   "execution_count": null,
   "metadata": {
    "collapsed": true
   },
   "outputs": [],
   "source": [
    "navigating_quizzes.mkdir_quiz()\n"
   ]
  },
  {
   "cell_type": "markdown",
   "metadata": {},
   "source": [
    "## Creating files\n",
    "\n",
    "Creating files will typically be done with a text editor or a customized program, but there are a couple of simple yet important ways of making files directly\n",
    "\n",
    "#### ``touch``\n",
    "\n",
    "``touch``creates an empty file or modifies the modification time of the file (if the file already exists). The syntax is as follows:\n",
    "\n",
    "```bash\n",
    "touch some_filename\n",
    "```\n",
    "\n",
    "#### ``>`` redirect (overwrite)\n",
    "\n",
    "We can use the ``>`` operator to **redirect** the output from a command to a file. This will overwrite the contents of the file. The syntax is as follows:\n",
    "\n",
    "```bash\n",
    "some_command > some_file\n",
    "```\n",
    "\n",
    "So if I want to list all the files in my home directory and store the output in a file called ``home_directory.txt`` in my current directory, I would do the following:\n",
    "\n",
    "```bash\n",
    "ls -a ~ > home_directory.txt\n",
    "```\n",
    "\n",
    "#### ``>>`` redirect (append)\n",
    "\n",
    "We can use the ``>>`` operator to **redirect** the output from a command to a file, appending the contents to an exiting file.\n",
    "\n",
    "To illustrate this, I am going to use the [``cat``](https://goo.gl/gTmwub) command to print out the contents of the files we create."
   ]
  },
  {
   "cell_type": "code",
   "execution_count": null,
   "metadata": {
    "collapsed": true
   },
   "outputs": [],
   "source": [
    "%%bash\n",
    "touch home_directory.txt\n",
    "cat home_directory.txt"
   ]
  },
  {
   "cell_type": "markdown",
   "metadata": {},
   "source": [
    "#### There should be no output from the cell above"
   ]
  },
  {
   "cell_type": "code",
   "execution_count": null,
   "metadata": {
    "collapsed": true
   },
   "outputs": [],
   "source": [
    "%%bash\n",
    "ls -a ~ > home_directory.txt\n",
    "cat home_directory.txt"
   ]
  },
  {
   "cell_type": "markdown",
   "metadata": {},
   "source": [
    "#### We should see a list of files and directories\n",
    "\n",
    "We should see a list of directory and file names, including names that start with a period (``.``), so called dot-files. Dot-files have special meaning in Unix/Linux: they are hidden files that are not normally shown (remember the ``-a`` option for ``ls`` means list **all** the files.\n",
    "\n",
    "If we do a plain ``ls`` command, we won't see these files."
   ]
  },
  {
   "cell_type": "code",
   "execution_count": null,
   "metadata": {
    "collapsed": true
   },
   "outputs": [],
   "source": [
    "%%bash\n",
    "ls ~ >> home_directory.txt\n",
    "cat home_directory.txt"
   ]
  },
  {
   "cell_type": "markdown",
   "metadata": {},
   "source": [
    "#### The output from the previous cell should be a list of all the files with the non-hidden files repeated at the end\n",
    "\n",
    "Because we used the ``>>`` operator we appended the list of non-hidden files to our original list of all files."
   ]
  },
  {
   "cell_type": "markdown",
   "metadata": {},
   "source": [
    "### Using ``echo``\n",
    "\n",
    "The [``echo``](https://goo.gl/cmZU7o) command echos back to the screen what follows the command. The syntax for this is as follows:\n",
    "\n",
    "```bash\n",
    "echo This sentence will get echoed back to the screen.\n",
    "```"
   ]
  },
  {
   "cell_type": "code",
   "execution_count": null,
   "metadata": {
    "collapsed": true
   },
   "outputs": [],
   "source": [
    "%%bash\n",
    "echo This sentence will get echoed back to the screen."
   ]
  },
  {
   "cell_type": "markdown",
   "metadata": {},
   "source": [
    "We can combine ``echo`` with redirects to create simple files."
   ]
  },
  {
   "cell_type": "code",
   "execution_count": null,
   "metadata": {
    "collapsed": true
   },
   "outputs": [],
   "source": [
    "%%bash\n",
    "echo Brian Chapman > contributors.txt\n",
    "cat contributors.txt"
   ]
  },
  {
   "cell_type": "markdown",
   "metadata": {},
   "source": [
    "## Exercise\n",
    "\n",
    "Use the echo and redirect commands to create  a file named \"README.md\" in the ``OutbreakDetection`` folder. The content of the file should be the following two lines:\n",
    "\n",
    "```Markdown\n",
    "# Outbreak Detector\n",
    "This directory contains data for developing an outbreak detector.\n",
    "```"
   ]
  },
  {
   "cell_type": "code",
   "execution_count": null,
   "metadata": {
    "collapsed": true
   },
   "outputs": [],
   "source": [
    "navigating_quizzes.file_creator_quiz()"
   ]
  },
  {
   "cell_type": "markdown",
   "metadata": {},
   "source": [
    "## Moving and Copying Files and Directories\n",
    "\n",
    "\n",
    "### ``mv``\n",
    "\n",
    "``mv`` stands for **m**o**v**e. We can use ``mv`` to move a file or directory from one location to another. The syntax is:\n",
    "\n",
    "```bash\n",
    "mv source destination\n",
    "```\n",
    "\n",
    "Here is an example:\n",
    "\n",
    "```bash\n",
    "mv home_directory.txt ~/home_files.txt\n",
    "```\n",
    "\n",
    "This moves ``home_directory.txt`` to my home directory and renames it ``home_files.txt``.\n",
    "\n",
    "If I don't want to rename the file, I can just provide the destination directory:\n",
    "\n",
    "```bash\n",
    "mv home_directory.txt ~/\n",
    "```\n",
    "\n",
    "I can use ``mv`` to **rename** a file by moving it to a new file name in the same directory:\n",
    "\n",
    "```bash\n",
    "mv home_directory.txt my_home_files.txt\n",
    "```\n",
    "\n",
    "\n"
   ]
  },
  {
   "cell_type": "markdown",
   "metadata": {},
   "source": [
    "## Exercise\n",
    "\n",
    "In our ``OurbreakDetection`` directory we created a directory named ``Sales``. This is not a very specific name. \n",
    "Use ``mv`` to rename the ``Sales`` to ``DrugSales``."
   ]
  },
  {
   "cell_type": "code",
   "execution_count": null,
   "metadata": {
    "collapsed": true
   },
   "outputs": [],
   "source": [
    "navigating_quizzes.mv_quiz()"
   ]
  },
  {
   "cell_type": "markdown",
   "metadata": {},
   "source": [
    "### ``cp``\n",
    "\n",
    "``cp`` stands for **c**o**p**y a file. The syntax is similar to the syntax for ``mv``.```\n",
    "\n",
    "```bash\n",
    "cp source_file dest_file\n",
    "```\n",
    "\n",
    "I can recursively copy a directory by using the ``-r`` option.\n",
    "\n",
    "```bash\n",
    "cp -r directory1 new_directory\n",
    "```\n"
   ]
  },
  {
   "cell_type": "markdown",
   "metadata": {
    "collapsed": true
   },
   "source": [
    "## Exercise\n",
    "\n",
    "Make a backup of the ``OutbreakDetection`` in your home directory named ``OutbreakDetectionBackup``."
   ]
  },
  {
   "cell_type": "code",
   "execution_count": null,
   "metadata": {
    "collapsed": true
   },
   "outputs": [],
   "source": [
    "navigating_quizzes.cp_quiz()"
   ]
  },
  {
   "cell_type": "markdown",
   "metadata": {},
   "source": [
    "## Exercise\n",
    "\n",
    "In ``/home/jovyan/DATA/Misc`` there is a file name ``obits.txt``. Use the ``mv`` command to move the ``obits.txt`` file to the ``OutbreakDetection/Obituaries`` directory."
   ]
  },
  {
   "cell_type": "code",
   "execution_count": null,
   "metadata": {
    "collapsed": true
   },
   "outputs": [],
   "source": [
    "%%bash\n",
    "# Write the correct command below\n"
   ]
  },
  {
   "cell_type": "markdown",
   "metadata": {},
   "source": [
    "## Permissions\n",
    "\n",
    "The result of our attempt to move the ``obits.txt`` file can be explained by the Unix permission system. We can use the ``-l`` option for the ``ls`` command to look at the permissions of files:"
   ]
  },
  {
   "cell_type": "code",
   "execution_count": null,
   "metadata": {
    "collapsed": true
   },
   "outputs": [],
   "source": [
    "%%bash\n",
    "ls -l /home/jovyan/DATA/Misc"
   ]
  },
  {
   "cell_type": "markdown",
   "metadata": {},
   "source": [
    "### The output of the cell above should look something like the following:\n",
    "\n",
    "![permissions](../../../media/permissions.png)\n",
    "\n",
    "### What does all this output mean?\n",
    "\n",
    "![annotated permissions](../../../media/permissions_annotated.png)\n",
    "\n",
    "Unix comes with a robust permissions model that controls who is able to access file/directory and in what manner they can access the file. Unix divides the files/directories up according to \n",
    "\n",
    "1. the user\n",
    "1. the group\n",
    "1. the others\n",
    "\n",
    "For each user, group, and other we can set whether there is **read** permission, **write** permission, and/or **execute** permission. For example, permissions can be used to control access to particularly directories or to safeguard files by making them read only: I can only delete a file that I have write permissions for.\n",
    "\n",
    "[Here](http://www.nersc.gov/users/storage-and-file-systems/unix-file-permissions/) is a more complete explanation of Unix permissions.\n",
    "\n",
    "The files are owned by the user ``root`` in the group ``root``.\n",
    "\n",
    "For each file we have a triple (user, group, world) of triple permissions (read (**r**), write (**w**), execute (**x**)). We (``jovyan``) are not the user ``root`` and we are not in the group ``root``, so the permissions we have are the ``other`` permissions (``r_x``). We do not have **write** permission, so we cannot move the file. However, we can copy the file, since we have **read** permission.\n",
    "\n",
    "We can change the permissions of a file (or directory) with the [``chmod``](https://en.wikipedia.org/wiki/Chmod) command. There are lots of ways we can use ``chmod``. Here are three examples:\n",
    "\n",
    "```bash\n",
    "chmod 740 home_directory.txt\n",
    "```\n",
    "\n",
    "This gives the user read, write, and execute permission, the group read permission, and others no permissions\n",
    "\n",
    "```bash\n",
    "chmod ug:+w home_directory.txt\n",
    "```\n",
    "\n",
    "This adds write permission for the user and the group.\n",
    "\n",
    "```bash\n",
    "chmod a:-w home_directory.txt\n",
    "```\n",
    "\n",
    "This removes write permissions for all (user, group, other)\n",
    "\n",
    "### Tip\n",
    "\n",
    "You can see which groups you are in with the command ``groups``"
   ]
  },
  {
   "cell_type": "code",
   "execution_count": null,
   "metadata": {
    "collapsed": true
   },
   "outputs": [],
   "source": [
    "%%bash\n",
    "groups"
   ]
  },
  {
   "cell_type": "markdown",
   "metadata": {},
   "source": [
    "## Exercise\n",
    "\n",
    "Copy the ``obits.txt`` file from ``/home/jovyan/DATA/Misc/`` to the ``OutbreakDetection/Obituaries`` directory located in your ``work`` directory. Then change the permissions so that it is read-only for the user, group, and other."
   ]
  },
  {
   "cell_type": "code",
   "execution_count": null,
   "metadata": {
    "collapsed": true
   },
   "outputs": [],
   "source": [
    "navigating_quizzes.permissions_quiz()"
   ]
  },
  {
   "cell_type": "code",
   "execution_count": null,
   "metadata": {
    "collapsed": true
   },
   "outputs": [],
   "source": [
    "importlib.reload(navigating_quizzes)\n",
    "navigating_quizzes.reset_mkdir()"
   ]
  },
  {
   "cell_type": "markdown",
   "metadata": {
    "collapsed": true
   },
   "source": [
    "<a rel=\"license\" href=\"http://creativecommons.org/licenses/by-nc-sa/4.0/\"><img alt=\"Creative Commons License\" style=\"border-width:0\" src=\"https://i.creativecommons.org/l/by-nc-sa/4.0/88x31.png\" /></a><br /><span xmlns:dct=\"http://purl.org/dc/terms/\" property=\"dct:title\">University of Uah Data Science for Health</span> by <span xmlns:cc=\"http://creativecommons.org/ns#\" property=\"cc:attributionName\">Eric Bogenschutz, Thomas Sasani, Brian E. Chapman</span> is licensed under a <a rel=\"license\" href=\"http://creativecommons.org/licenses/by-nc-sa/4.0/\">Creative Commons Attribution-NonCommercial-ShareAlike 4.0 International License</a>."
   ]
  },
  {
   "cell_type": "code",
   "execution_count": null,
   "metadata": {
    "collapsed": true
   },
   "outputs": [],
   "source": []
  }
 ],
 "metadata": {
  "kernelspec": {
   "display_name": "Python 3",
   "language": "python",
   "name": "python3"
  },
  "language_info": {
   "codemirror_mode": {
    "name": "ipython",
    "version": 3
   },
   "file_extension": ".py",
   "mimetype": "text/x-python",
   "name": "python",
   "nbconvert_exporter": "python",
   "pygments_lexer": "ipython3",
   "version": "3.5.2"
  },
  "widgets": {
   "state": {},
   "version": "1.1.2"
  }
 },
 "nbformat": 4,
 "nbformat_minor": 1
}
