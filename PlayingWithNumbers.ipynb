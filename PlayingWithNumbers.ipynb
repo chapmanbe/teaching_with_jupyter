{
 "cells": [
  {
   "cell_type": "code",
   "execution_count": 117,
   "metadata": {
    "nbgrader": {
     "grade": false,
     "grade_id": "cell-1183ef46bfe6ae8d",
     "locked": true,
     "schema_version": 1,
     "solution": false
    }
   },
   "outputs": [
    {
     "name": "stderr",
     "output_type": "stream",
     "text": [
      "\u001b[1m\u001b[34mINFO: Nothing to be done\n",
      "\u001b[0m\u001b[1m\u001b[34mINFO: METADATA is out-of-date — you may not have the latest version of DataFrames\n",
      "\u001b[0m\u001b[1m\u001b[34mINFO: Use `Pkg.update()` to get the latest versions of your packages\n",
      "\u001b[0m\u001b[1m\u001b[34mINFO: Nothing to be done\n",
      "\u001b[0m\u001b[1m\u001b[34mINFO: METADATA is out-of-date — you may not have the latest version of Seaborn\n",
      "\u001b[0m\u001b[1m\u001b[34mINFO: Use `Pkg.update()` to get the latest versions of your packages\n",
      "\u001b[0m"
     ]
    }
   ],
   "source": [
    "Pkg.add(\"DataFrames\")\n",
    "Pkg.add(\"Seaborn\");"
   ]
  },
  {
   "cell_type": "code",
   "execution_count": 122,
   "metadata": {
    "collapsed": true,
    "nbgrader": {
     "grade": false,
     "grade_id": "cell-71a8bd8697d631bb",
     "locked": true,
     "schema_version": 1,
     "solution": false
    }
   },
   "outputs": [],
   "source": [
    "using DataFrames\n",
    "using Base.Test\n",
    "using Seaborn;\n",
    "using Base.Random"
   ]
  },
  {
   "cell_type": "markdown",
   "metadata": {
    "nbgrader": {
     "grade": false,
     "grade_id": "cell-2111aad8c6670748",
     "locked": true,
     "schema_version": 1,
     "solution": false
    }
   },
   "source": [
    "# Playing with Primes"
   ]
  },
  {
   "cell_type": "markdown",
   "metadata": {
    "nbgrader": {
     "grade": false,
     "grade_id": "cell-0513b8c41dff8924",
     "locked": true,
     "schema_version": 1,
     "solution": false
    }
   },
   "source": [
    "## Encyrption is in the Center of Public Debate\n",
    "* [CNN, \"ISIS using encryption to evade FBI\"](http://www.cnn.com/2015/07/08/politics/fbi-comey-isis-encryption-recruitment/)\n",
    "* [Wired, \"Security Manual Reveals the OPSEC Advice ISIS Gives Recruits\"](http://www.wired.com/2015/11/isis-opsec-encryption-manuals-reveal-terrorist-group-security-protocols/)\n",
    "* [Fortune, \"Former National Security Officials Support Encryption\"](http://fortune.com/2015/12/16/national-security-encryption/)\n",
    "\n",
    "## Encryption Relies on Mathematics\n",
    "### Encryption Relies on Prime Numbers\n",
    "\n",
    "\n",
    ">[Public-key] was invented in 1976 by two Stanford\n",
    "mathematicians, Whitfield Diffie and Martin Hellman. Their discovery can be phrased simply:\n",
    "enciphering schemes should be asymmetric. For thousands of years all ciphers were symmetric –\n",
    "the key for encrypting a message was identical to the key for decrypting it, but used, so to speak,\n",
    "in reverse. To change “5 100 100 5 15 55” or “6 120 120 6 18 66” back into “attack,” for instance,\n",
    "one simply reverses the encryption by dividing the numbers with the key, instead of multiplying\n",
    "them, and then replaces the numbers with their equivalent letters. Thus sender and receiver must\n",
    "both have the key, and must both keep it secret. The symmetry, Diffie and Hellman realized, is the\n",
    "origin of the key-management problem. The solution is to have an encrypting key that is different\n",
    "from the decrypting key – one key to encipher a message, and another, different key to decipher\n",
    "it. With an asymmetric cipher, Alice could send encrypted messages to Bob without providing\n",
    "him with a secret key. In fact, Alice could send him a secret message even if she had never before\n",
    "communicated with him in any way.\n",
    "\n",
    ">“If this sounds ridiculous, it should,” Schneier wrote in Secrets and Lies (2001). “It sounds\n",
    "impossible. If you were to survey the world’s cryptographers in 1975, they would all have told you\n",
    "it was impossible.” One year later, Diffie and Hellman showed that it was possible, after all. (Later\n",
    "the British Secret Service revealed that it had invented these techniques before Diffie and Hellman,\n",
    "but kept them secret – and apparently did nothing with them.)\n",
    "\n",
    ">To be precise, Diffie and Hellman demonstrated only that public-key encryption was possible in\n",
    "theory. Another year passed before three MIT mathematicians – Ronald L. Rivest, Adi Shamir,\n",
    "and Leonard M. Adleman – figured out a way to do it in the real world. At the base of the RivestShamir-Adleman,\n",
    "or RSA, encryption scheme is the mathematical task of factoring. Factoring\n",
    "a number means identifying the prime numbers which, when multiplied together, produce that\n",
    "number. Thus 126,356 can be factored into $2 \\times 2 \\times 31 \\times 1,019$, where 2, 31, and 1,019 are all\n",
    "prime. (A given number has only one set of prime factors.) 1 Surprisingly, mathematicians\n",
    "regard factoring numbers – part of the elementary-school curriculum – as a fantastically difficult\n",
    "task. Despite the efforts of such luminaries as Fermat, Gauss, and Fibonacci, nobody has ever\n",
    "discovered a consistent, usable method for factoring large numbers. Instead, mathematicians try\n",
    "potential factors by invoking complex rules of thumb, looking for numbers that divide evenly. For\n",
    "big numbers the process is horribly time-consuming, even with fast computers. The largest number\n",
    "yet factored is 155 digits long. It took 292 computers, most of them fast workstations, more than\n",
    "seven months.\n",
    "\n",
    ">Note something odd. **It is easy to multiply primes together. But there is no easy way to take\n",
    "the product and reduce it back to its original primes.** In crypto jargon, this is a “trapdoor”: a\n",
    "function that lets you go one way easily, but not the other. Such one-way functions, of which\n",
    "this is perhaps the simplest example, are at the bottom of all public-key encryption. They make\n",
    "asymmetric ciphers possible.\n",
    "\n",
    ">To use RSA encryption, Alice first secretly chooses two prime numbers, p and q, each more than\n",
    "a hundred digits long. This is easier than it may sound: there are an infinite supply of prime\n",
    "numbers. Last year a Canadian college student found the biggest known prime: $2^{13466917} − 1$. It\n",
    "has 4,053,946 digits; typed without commas in standard 12-point type, the number would be more\n",
    "than ten miles long. Fortunately Alice doesn’t need one nearly that big. She runs a program that\n",
    "randomly selects two prime numbers for her and then she multiplies them by each other, producing\n",
    "pq, a still bigger number that is, naturally, not prime. This is Alice’s“public key.” (In fact, creating\n",
    "the key is more complicated than I suggest here, but not wildly so.)\n",
    "\n",
    ">As the name suggests, public keys are not secret; indeed, the Alices of this world often post\n",
    "them on the Internet or attach them to the bottom of their e-mail. When Bob wants to send Alice\n",
    "a secret message, he first converts the text of the message into a number. Perhaps, as before, he\n",
    "transforms “attack” into “5 100 100 5 15 55.” Then he obtains Alice’s public key – that is, the\n",
    "number pq – by looking it up on a Web site or copying it from her e-mail. (Note here that Bob does\n",
    "not use his own key to send Alice a message, as in regular encryption. Instead, he uses Alice’s key.)\n",
    "Having found Alice’s public key, he plugs it into a special algorithm invented by Rivest, Shamir,\n",
    "and Adleman to encrypt the message.\n",
    "\n",
    ">At this point the three mathematicians’ cleverness becomes evident. Bob knows the product pq,\n",
    "because Alice has displayed it on her Web site. But he almost certainly does not know p and q\n",
    "themselves, because they are its only factors, and factoring large numbers is effectively impossible.\n",
    "Yet the algorithm is constructed in such a way that to decipher the message the recipient must\n",
    "know both p and q individually. Because only Alice knows p and q, Bob can send secret messages to\n",
    "Alice without ever having to swap keys. Anyone else who wants to read the message will somehow\n",
    "have to factor pq back into the prime numbers p and q. ([\"The science of encryption: prime numbers and mod n arithmetic\"](https://math.berkeley.edu/~kpmann/encryption.pdf))"
   ]
  },
  {
   "cell_type": "markdown",
   "metadata": {
    "nbgrader": {
     "grade": false,
     "grade_id": "cell-ade22723877cd40d",
     "locked": true,
     "schema_version": 1,
     "solution": false
    }
   },
   "source": [
    "## How Do We Find Primes?\n",
    "\n",
    "A really old way is known as the [Sieve of Eratosthenes](https://en.wikipedia.org/wiki/Sieve_of_Eratosthenes)\n",
    "\n",
    "The approach here is to create an array of numbers and cross out any number that is a multiple of a prime. As we loop through the array, any number that is not crossed out is a prime.\n",
    "\n",
    "1. Allocate an array of integers (`nums`) between 2 and N+1\n",
    "1. Start with i=0\n",
    "1. Look at the ith number in the array (`nums[i]`), if it is not crossed out it is a prime.\n",
    "    1. Add `nums[i]` to our list of primes\n",
    "    1. Cross out all the multiples of `nums[i]`\n",
    "    1. Increment i"
   ]
  },
  {
   "cell_type": "code",
   "execution_count": 33,
   "metadata": {},
   "outputs": [
    {
     "name": "stdout",
     "output_type": "stream",
     "text": [
      "[2,3,-1,5,-1,7,-1,9,-1,11,-1,13,-1,15,-1,17,-1,19,-1]"
     ]
    }
   ],
   "source": [
    "a = collect(2:20)\n",
    "a[3:2:end]=-1\n",
    "print(a)"
   ]
  },
  {
   "cell_type": "code",
   "execution_count": 39,
   "metadata": {
    "nbgrader": {
     "grade": false,
     "grade_id": "cell-906b646f7da82489",
     "locked": false,
     "schema_version": 1,
     "solution": true
    }
   },
   "outputs": [
    {
     "name": "stderr",
     "output_type": "stream",
     "text": [
      "WARNING: Method definition sievePrime(Any) in module Main at In[36]:3 overwritten at In[39]:2.\n",
      "WARNING: Method definition sievePrime(Any) in module Main at In[39]:2 overwritten at In[39]:14.\n"
     ]
    },
    {
     "data": {
      "text/plain": [
       "sievePrime (generic function with 1 method)"
      ]
     },
     "execution_count": 39,
     "metadata": {},
     "output_type": "execute_result"
    }
   ],
   "source": [
    "function sievePrime(N)\n",
    "    primes = []\n",
    "    nums = collect(2:N)\n",
    "    for i in range(1,length(nums))\n",
    "        current_num = nums[i]\n",
    "        if current_num != -1\n",
    "            push!(primes, current_num)\n",
    "            nums[i+current_num:current_num:end] = -1\n",
    "        end\n",
    "    end\n",
    "    return primes\n",
    "end\n",
    "function sievePrime(N)\n",
    "    nums = collect(2:N)\n",
    "    for i in range(1,length(nums))\n",
    "        current_num = nums[i]\n",
    "        if current_num != -1\n",
    "            nums[i+current_num:current_num:end] = -1\n",
    "        end\n",
    "    end\n",
    "    return [n for n in nums if n != -1]\n",
    "end"
   ]
  },
  {
   "cell_type": "code",
   "execution_count": 68,
   "metadata": {},
   "outputs": [
    {
     "data": {
      "text/plain": [
       "isprime (generic function with 1 method)"
      ]
     },
     "execution_count": 68,
     "metadata": {},
     "output_type": "execute_result"
    }
   ],
   "source": [
    "function isprime(n)\n",
    "    return n in sievePrime(n)\n",
    "end"
   ]
  },
  {
   "cell_type": "code",
   "execution_count": 71,
   "metadata": {},
   "outputs": [
    {
     "data": {
      "text/plain": [
       "true"
      ]
     },
     "execution_count": 71,
     "metadata": {},
     "output_type": "execute_result"
    }
   ],
   "source": [
    "isprime(23)"
   ]
  },
  {
   "cell_type": "code",
   "execution_count": 41,
   "metadata": {
    "nbgrader": {
     "grade": true,
     "grade_id": "cell-87d7b7740776091c",
     "locked": true,
     "points": 0,
     "schema_version": 1,
     "solution": false
    }
   },
   "outputs": [
    {
     "data": {
      "text/plain": [
       "\u001b[1m\u001b[32mTest Passed\n",
       "\u001b[0m  Expression: sievePrime(20) == [2,3,5,7,11,13,17,19]\n",
       "   Evaluated: [2,3,5,7,11,13,17,19] == [2,3,5,7,11,13,17,19]"
      ]
     },
     "execution_count": 41,
     "metadata": {},
     "output_type": "execute_result"
    }
   ],
   "source": [
    "@test sievePrime(10) == [2, 3, 5, 7]\n",
    "@test sievePrime(20) == [2, 3, 5, 7, 11, 13, 17, 19]"
   ]
  },
  {
   "cell_type": "markdown",
   "metadata": {},
   "source": [
    "## What are some limitations of this approach?\n",
    "1. We have to allocate a potentially large array (memory)\n",
    "1. We loop through the entire list of numbers\n",
    "\n",
    "### Given `N`, what is the largest number we would have to test division on to see if `N` is prime? "
   ]
  },
  {
   "cell_type": "markdown",
   "metadata": {},
   "source": [
    "### Let's write some alternative functions for finding primes\n",
    "\n",
    "## Exercise:\n",
    "\n",
    "modify `isprime2` to check whether a number is prime. Use `if` statements to test for the special cases ($n<2$, $n=2$, $n\\mod2=0$). Use a for loop and the range function ($\\text{range}(3,1+\\sqrt{n}, 2)$)? Why $3$? Why $2$?"
   ]
  },
  {
   "cell_type": "code",
   "execution_count": 48,
   "metadata": {
    "nbgrader": {
     "grade": false,
     "grade_id": "cell-839df251964424e3",
     "locked": false,
     "schema_version": 1,
     "solution": true
    }
   },
   "outputs": [
    {
     "name": "stderr",
     "output_type": "stream",
     "text": [
      "WARNING: Method definition isprime2(Any) in module Main at In[46]:2 overwritten at In[48]:2.\n"
     ]
    },
    {
     "data": {
      "text/plain": [
       "isprime2 (generic function with 1 method)"
      ]
     },
     "execution_count": 48,
     "metadata": {},
     "output_type": "execute_result"
    }
   ],
   "source": [
    "function isprime2(n)\n",
    "    if !isa(n,Int)\n",
    "        throws(ArgumentError(\"$n: n must be an integer\"))\n",
    "    end\n",
    "    if n < 2\n",
    "        return false\n",
    "    elseif n == 2\n",
    "        return true\n",
    "    elseif n %2 == 0\n",
    "        return false\n",
    "    else\n",
    "        lim = 1+convert(Int64, round(sqrt(n)))\n",
    "        for i in collect(3:2:lim)\n",
    "            if n % i == 0\n",
    "                return false\n",
    "            end\n",
    "        end\n",
    "    end\n",
    "    return true\n",
    "end"
   ]
  },
  {
   "cell_type": "code",
   "execution_count": 51,
   "metadata": {
    "nbgrader": {
     "grade": true,
     "grade_id": "cell-d7f0ae1402b7514b",
     "locked": true,
     "points": 0,
     "schema_version": 1,
     "solution": false
    }
   },
   "outputs": [
    {
     "data": {
      "text/plain": [
       "\u001b[1m\u001b[32mTest Passed\n",
       "\u001b[0m  Expression: !(isprime2(49))"
      ]
     },
     "execution_count": 51,
     "metadata": {},
     "output_type": "execute_result"
    }
   ],
   "source": [
    "@test isprime2(47)\n",
    "@test !isprime2(49)"
   ]
  },
  {
   "cell_type": "markdown",
   "metadata": {},
   "source": [
    "## Exercise\n",
    "\n",
    "Modify `isprime3` to check if a number `p` is Prime using list comprehension and the [`any`](https://docs.python.org/3/library/functions.html#any) function."
   ]
  },
  {
   "cell_type": "code",
   "execution_count": 59,
   "metadata": {
    "nbgrader": {
     "grade": false,
     "grade_id": "cell-701c0e3f0b610db8",
     "locked": false,
     "schema_version": 1,
     "solution": true
    }
   },
   "outputs": [
    {
     "name": "stderr",
     "output_type": "stream",
     "text": [
      "WARNING: Method definition isprime3(Any) in module Main at In[57]:2 overwritten at In[59]:2.\n"
     ]
    },
    {
     "data": {
      "text/plain": [
       "isprime3 (generic function with 1 method)"
      ]
     },
     "execution_count": 59,
     "metadata": {},
     "output_type": "execute_result"
    }
   ],
   "source": [
    "function isprime3(p)\n",
    "    if !isa(p,Int)\n",
    "        throws(ArgumentError(\"$p: p must be an integer\"))\n",
    "    end\n",
    "    if p < 2\n",
    "        return false\n",
    "    elseif p == 2\n",
    "        return true\n",
    "    elseif p % 2 == 0\n",
    "        return false\n",
    "    else\n",
    "        return  ! any(p%n==0 for n in collect(3:2:convert(Int64, round(sqrt(p)))+1)) \n",
    "    end\n",
    "end"
   ]
  },
  {
   "cell_type": "code",
   "execution_count": 63,
   "metadata": {
    "collapsed": true
   },
   "outputs": [],
   "source": [
    "@test !isprime3(49)\n",
    "@test isprime3(47);\n"
   ]
  },
  {
   "cell_type": "code",
   "execution_count": 64,
   "metadata": {
    "nbgrader": {
     "grade": false,
     "grade_id": "cell-cc40ca1b7692c5ba",
     "locked": true,
     "schema_version": 1,
     "solution": false
    }
   },
   "outputs": [
    {
     "data": {
      "text/plain": [
       "167-element Array{Int64,1}:\n",
       "   2\n",
       "   5\n",
       "   7\n",
       "  11\n",
       "  13\n",
       "  17\n",
       "  19\n",
       "  23\n",
       "  29\n",
       "  31\n",
       "  37\n",
       "  41\n",
       "  43\n",
       "   ⋮\n",
       " 919\n",
       " 929\n",
       " 937\n",
       " 941\n",
       " 947\n",
       " 953\n",
       " 967\n",
       " 971\n",
       " 977\n",
       " 983\n",
       " 991\n",
       " 997"
      ]
     },
     "execution_count": 64,
     "metadata": {},
     "output_type": "execute_result"
    }
   ],
   "source": [
    "primes = [n for n in range(1,1000) if isprime2(n)]\n",
    "primes"
   ]
  },
  {
   "cell_type": "code",
   "execution_count": 78,
   "metadata": {},
   "outputs": [
    {
     "name": "stdout",
     "output_type": "stream",
     "text": [
      " 52.701268 seconds (2.16 M allocations: 48.422 GB, 4.15% gc time)\n"
     ]
    }
   ],
   "source": [
    "@time [n for n in collect(1:100000) if isprime(n)];"
   ]
  },
  {
   "cell_type": "code",
   "execution_count": 79,
   "metadata": {
    "nbgrader": {
     "grade": false,
     "grade_id": "cell-ca0ded0809337038",
     "locked": true,
     "schema_version": 1,
     "solution": false
    }
   },
   "outputs": [
    {
     "name": "stdout",
     "output_type": "stream",
     "text": [
      "  0.059293 seconds (117.64 k allocations: 49.237 MB, 10.53% gc time)\n"
     ]
    }
   ],
   "source": [
    "@time [n for n in collect(1:100000) if isprime2(n)];"
   ]
  },
  {
   "cell_type": "code",
   "execution_count": 80,
   "metadata": {
    "nbgrader": {
     "grade": false,
     "grade_id": "cell-aef984e69c228ebd",
     "locked": true,
     "schema_version": 1,
     "solution": false
    }
   },
   "outputs": [
    {
     "name": "stdout",
     "output_type": "stream",
     "text": [
      "  0.092374 seconds (167.66 k allocations: 50.005 MB, 5.39% gc time)\n"
     ]
    }
   ],
   "source": [
    "@time [n for n in range(1,100000) if isprime3(n)];"
   ]
  },
  {
   "cell_type": "markdown",
   "metadata": {
    "nbgrader": {
     "grade": false,
     "grade_id": "cell-79a09f326e5a2c84",
     "locked": true,
     "schema_version": 1,
     "solution": false
    }
   },
   "source": [
    "## [Gilbreath's Conjecture](https://en.wikipedia.org/wiki/Gilbreath%27s_conjecture)\n",
    "\n",
    ">Gilbreath's conjecture is a conjecture in number theory regarding the sequences generated by applying the forward difference operator to consecutive prime numbers and leaving the results unsigned, and then repeating this process on consecutive terms in the resulting sequence, and so forth. The statement is named after mathematician Norman L. Gilbreath who, in 1958, presented it to the mathematical community after observing the pattern by chance while doing arithmetic on a napkin. In 1878, eighty years before Gilbreath's discovery, François Proth had, however, published the same observations along with an attempted proof, which was later shown to be false."
   ]
  },
  {
   "cell_type": "markdown",
   "metadata": {
    "nbgrader": {
     "grade": false,
     "grade_id": "cell-9d0e778eff9b39a5",
     "locked": true,
     "schema_version": 1,
     "solution": false
    }
   },
   "source": [
    "#### Write a function ``seq_diff`` that computes the absolute value of the forward difference of a sequence of primes\n",
    "\n",
    "**Hints:**\n",
    "1. The `math` library defines an `fabs` which returns a floating point value for the absolute value.\n",
    "1. Use the `range` function.\n",
    "    1. What do you want for the starting value for `range`?\n",
    "    1. What do you want for the ending value for `range`?\n",
    "1. How will the length of the output differ from the length of the input?"
   ]
  },
  {
   "cell_type": "code",
   "execution_count": 92,
   "metadata": {
    "nbgrader": {
     "grade": false,
     "grade_id": "cell-db3bfe56e4780385",
     "locked": false,
     "schema_version": 1,
     "solution": true
    }
   },
   "outputs": [
    {
     "name": "stderr",
     "output_type": "stream",
     "text": [
      "WARNING: Method definition seq_diff(Any) in module Main at In[88]:2 overwritten at In[92]:2.\n"
     ]
    },
    {
     "data": {
      "text/plain": [
       "seq_diff (generic function with 1 method)"
      ]
     },
     "execution_count": 92,
     "metadata": {},
     "output_type": "execute_result"
    }
   ],
   "source": [
    "function seq_diff(seq)\n",
    "    return [abs(seq[i]-seq[i-1]) for i in collect(2:length(seq))]\n",
    "end\n"
   ]
  },
  {
   "cell_type": "markdown",
   "metadata": {
    "nbgrader": {
     "grade": false,
     "grade_id": "cell-b03292ab6d236c25",
     "locked": true,
     "schema_version": 1,
     "solution": false
    }
   },
   "source": [
    "#### Test the output"
   ]
  },
  {
   "cell_type": "code",
   "execution_count": 93,
   "metadata": {
    "nbgrader": {
     "grade": true,
     "grade_id": "cell-686cd642a626638c",
     "locked": true,
     "points": 0,
     "schema_version": 1,
     "solution": false
    }
   },
   "outputs": [
    {
     "ename": "LoadError",
     "evalue": "UndefVarError: assert_equal not defined",
     "output_type": "error",
     "traceback": [
      "UndefVarError: assert_equal not defined",
      "",
      " in include_string(::String, ::String) at ./loading.jl:441"
     ]
    }
   ],
   "source": [
    "seq = [2, 3, 5, 7, 11, 13, 17, 19, 23, 29, 31, 37, 41, 43, 47]\n",
    "assert_equal(seq_diff(seq), [1, 2, 2, 4, 2, 4, 2, 4, 6, 2, 6, 4, 2, 4])\n",
    "assert_equal(seq_diff(seq_diff(seq)), [1, 0, 2, 2, 2, 2, 2, 2, 4, 4, 2, 2, 2])"
   ]
  },
  {
   "cell_type": "code",
   "execution_count": 94,
   "metadata": {},
   "outputs": [
    {
     "name": "stdout",
     "output_type": "stream",
     "text": [
      "[2,5,7,11,13,17,19,23,29,31,37,41,43,47]\n",
      "[3,2,4,2,4,2,4,6,2,6,4,2,4]\n",
      "[1,2,2,2,2,2,2,4,4,2,2,2]\n",
      "[1,0,0,0,0,0,2,0,2,0,0]\n",
      "[1,0,0,0,0,2,2,2,2,0]\n",
      "[1,0,0,0,2,0,0,0,2]\n",
      "[1,0,0,2,2,0,0,2]\n",
      "[1,0,2,0,2,0,2]\n",
      "[1,2,2,2,2,2]\n",
      "[1,0,0,0,0]\n",
      "[1,0,0,0]\n",
      "[1,0,0]\n",
      "[1,0]\n",
      "[1]\n",
      "Int64[]\n"
     ]
    }
   ],
   "source": [
    "seq = [n for n in range(1,50) if isprime2(n)]\n",
    "println(seq)\n",
    "while true\n",
    "    if isempty(seq)\n",
    "        break   \n",
    "    end\n",
    "    seq = seq_diff(seq)\n",
    "    println(seq)\n",
    "end"
   ]
  },
  {
   "cell_type": "markdown",
   "metadata": {},
   "source": [
    "## Playing with Large Measured Data: [Benford's Law](https://en.wikipedia.org/wiki/Benford%27s_law)"
   ]
  },
  {
   "cell_type": "markdown",
   "metadata": {},
   "source": [
    "### We are going to use census data"
   ]
  },
  {
   "cell_type": "code",
   "execution_count": 97,
   "metadata": {
    "scrolled": false
   },
   "outputs": [
    {
     "name": "stderr",
     "output_type": "stream",
     "text": [
      "WARNING: imported binding for data overwritten in module Main\n"
     ]
    },
    {
     "data": {
      "text/html": [
       "<table class=\"data-frame\"><thead><tr><th></th><th>Id</th><th>Id2</th><th>Geography</th><th>Target_Geo_Id</th><th>Target_Geo_Id2</th><th>Rank</th><th>Geography_1</th><th>Geography_2</th><th>April_1_2010_Census</th><th>April_1_2010_Estimates_Base</th><th>Population_Estimate_as_of_July_1_2010</th><th>Population_Estimate_as_of_July_1_2011</th><th>Population_Estimate_as_of_July_1_2012</th><th>Population_Estimate_as_of_July_1_2013</th><th>Population_Estimate_as_of_July_1_2014</th><th>Population_Estimate_as_of_July_1_2015</th><th>Population_Estimate_as_of_July_1_2016</th></tr></thead><tbody><tr><th>1</th><td>0100000US</td><td>NA</td><td>United States</td><td>1620000US3651000</td><td>3651000</td><td>1</td><td>United States - New York city, New York</td><td>New York city, New York</td><td>8175133</td><td>8174962</td><td>8192026</td><td>8284098</td><td>8361179</td><td>8422460</td><td>8471990</td><td>8516502</td><td>8537673</td></tr><tr><th>2</th><td>0100000US</td><td>NA</td><td>United States</td><td>1620000US0644000</td><td>644000</td><td>2</td><td>United States - Los Angeles city, California</td><td>Los Angeles city, California</td><td>3792621</td><td>3792584</td><td>3796292</td><td>3825393</td><td>3858137</td><td>3890436</td><td>3920173</td><td>3949149</td><td>3976322</td></tr><tr><th>3</th><td>0100000US</td><td>NA</td><td>United States</td><td>1620000US1714000</td><td>1714000</td><td>3</td><td>United States - Chicago city, Illinois</td><td>Chicago city, Illinois</td><td>2695598</td><td>2695620</td><td>2697736</td><td>2705404</td><td>2714120</td><td>2718887</td><td>2718530</td><td>2713596</td><td>2704958</td></tr><tr><th>4</th><td>0100000US</td><td>NA</td><td>United States</td><td>1620000US4835000</td><td>4835000</td><td>4</td><td>United States - Houston city, Texas</td><td>Houston city, Texas</td><td>2099451</td><td>2100277</td><td>2105625</td><td>2132157</td><td>2166458</td><td>2204406</td><td>2243999</td><td>2284816</td><td>2303482</td></tr><tr><th>5</th><td>0100000US</td><td>NA</td><td>United States</td><td>1620000US0455000</td><td>455000</td><td>5</td><td>United States - Phoenix city, Arizona</td><td>Phoenix city, Arizona</td><td>1445632</td><td>1447624</td><td>1450629</td><td>1469353</td><td>1499007</td><td>1525562</td><td>1554179</td><td>1582904</td><td>1615017</td></tr><tr><th>6</th><td>0100000US</td><td>NA</td><td>United States</td><td>1620000US4260000</td><td>4260000</td><td>6</td><td>United States - Philadelphia city, Pennsylvania</td><td>Philadelphia city, Pennsylvania</td><td>1526006</td><td>1526006</td><td>1528427</td><td>1539022</td><td>1550379</td><td>1555868</td><td>1560609</td><td>1564964</td><td>1567872</td></tr><tr><th>7</th><td>0100000US</td><td>NA</td><td>United States</td><td>1620000US4865000</td><td>4865000</td><td>7</td><td>United States - San Antonio city, Texas</td><td>San Antonio city, Texas</td><td>1327407</td><td>1327538</td><td>1333952</td><td>1359002</td><td>1385250</td><td>1411652</td><td>1439150</td><td>1468037</td><td>1492510</td></tr><tr><th>8</th><td>0100000US</td><td>NA</td><td>United States</td><td>1620000US0666000</td><td>666000</td><td>8</td><td>United States - San Diego city, California</td><td>San Diego city, California</td><td>1307402</td><td>1301722</td><td>1306153</td><td>1320686</td><td>1338983</td><td>1358242</td><td>1379299</td><td>1390915</td><td>1406630</td></tr><tr><th>9</th><td>0100000US</td><td>NA</td><td>United States</td><td>1620000US4819000</td><td>4819000</td><td>9</td><td>United States - Dallas city, Texas</td><td>Dallas city, Texas</td><td>1197816</td><td>1197824</td><td>1200711</td><td>1218664</td><td>1241624</td><td>1258016</td><td>1277376</td><td>1297327</td><td>1317929</td></tr><tr><th>10</th><td>0100000US</td><td>NA</td><td>United States</td><td>1620000US0668000</td><td>668000</td><td>10</td><td>United States - San Jose city, California</td><td>San Jose city, California</td><td>945942</td><td>952555</td><td>955290</td><td>970823</td><td>984151</td><td>1001580</td><td>1013237</td><td>1022627</td><td>1025350</td></tr><tr><th>11</th><td>0100000US</td><td>NA</td><td>United States</td><td>1620000US4805000</td><td>4805000</td><td>11</td><td>United States - Austin city, Texas</td><td>Austin city, Texas</td><td>790390</td><td>811045</td><td>815587</td><td>838599</td><td>864483</td><td>885343</td><td>911390</td><td>930152</td><td>947890</td></tr><tr><th>12</th><td>0100000US</td><td>NA</td><td>United States</td><td>1620000US1235000</td><td>1235000</td><td>12</td><td>United States - Jacksonville city, Florida</td><td>Jacksonville city, Florida</td><td>821784</td><td>821784</td><td>823318</td><td>829719</td><td>837705</td><td>843569</td><td>854034</td><td>867164</td><td>880619</td></tr><tr><th>13</th><td>0100000US</td><td>NA</td><td>United States</td><td>1620000US0667000</td><td>667000</td><td>13</td><td>United States - San Francisco city, California</td><td>San Francisco city, California</td><td>805235</td><td>805193</td><td>805766</td><td>815672</td><td>828816</td><td>839280</td><td>850424</td><td>862004</td><td>870887</td></tr><tr><th>14</th><td>0100000US</td><td>NA</td><td>United States</td><td>1620000US3918000</td><td>3918000</td><td>14</td><td>United States - Columbus city, Ohio</td><td>Columbus city, Ohio</td><td>787033</td><td>788866</td><td>790864</td><td>799917</td><td>811640</td><td>824904</td><td>838200</td><td>850044</td><td>860090</td></tr><tr><th>15</th><td>0100000US</td><td>NA</td><td>United States</td><td>1620000US1836003</td><td>1836003</td><td>15</td><td>United States - Indianapolis city (balance), Indiana</td><td>Indianapolis city (balance), Indiana</td><td>820445</td><td>820441</td><td>821659</td><td>827373</td><td>834582</td><td>843544</td><td>848762</td><td>852295</td><td>855164</td></tr><tr><th>16</th><td>0100000US</td><td>NA</td><td>United States</td><td>1620000US4827000</td><td>4827000</td><td>16</td><td>United States - Fort Worth city, Texas</td><td>Fort Worth city, Texas</td><td>741206</td><td>744973</td><td>748719</td><td>764314</td><td>781074</td><td>795974</td><td>814307</td><td>834171</td><td>854113</td></tr><tr><th>17</th><td>0100000US</td><td>NA</td><td>United States</td><td>1620000US3712000</td><td>3712000</td><td>17</td><td>United States - Charlotte city, North Carolina</td><td>Charlotte city, North Carolina</td><td>731424</td><td>735612</td><td>738561</td><td>756008</td><td>774553</td><td>792906</td><td>808362</td><td>826395</td><td>842051</td></tr><tr><th>18</th><td>0100000US</td><td>NA</td><td>United States</td><td>1620000US5363000</td><td>5363000</td><td>18</td><td>United States - Seattle city, Washington</td><td>Seattle city, Washington</td><td>608660</td><td>608659</td><td>610403</td><td>622323</td><td>635306</td><td>653095</td><td>667963</td><td>683505</td><td>704352</td></tr><tr><th>19</th><td>0100000US</td><td>NA</td><td>United States</td><td>1620000US0820000</td><td>820000</td><td>19</td><td>United States - Denver city, Colorado</td><td>Denver city, Colorado</td><td>600158</td><td>599864</td><td>603329</td><td>619281</td><td>633563</td><td>647433</td><td>662425</td><td>680032</td><td>693060</td></tr><tr><th>20</th><td>0100000US</td><td>NA</td><td>United States</td><td>1620000US4824000</td><td>4824000</td><td>20</td><td>United States - El Paso city, Texas</td><td>El Paso city, Texas</td><td>649121</td><td>648054</td><td>650604</td><td>664196</td><td>674485</td><td>675608</td><td>678494</td><td>678570</td><td>683080</td></tr><tr><th>21</th><td>0100000US</td><td>NA</td><td>United States</td><td>1620000US1150000</td><td>1150000</td><td>21</td><td>United States - Washington city, District of Columbia</td><td>Washington city, District of Columbia</td><td>601723</td><td>601766</td><td>605183</td><td>620477</td><td>635327</td><td>649165</td><td>659005</td><td>670377</td><td>681170</td></tr><tr><th>22</th><td>0100000US</td><td>NA</td><td>United States</td><td>1620000US2507000</td><td>2507000</td><td>22</td><td>United States - Boston city, Massachusetts</td><td>Boston city, Massachusetts</td><td>617594</td><td>617668</td><td>620701</td><td>630195</td><td>641911</td><td>651090</td><td>659180</td><td>665984</td><td>673184</td></tr><tr><th>23</th><td>0100000US</td><td>NA</td><td>United States</td><td>1620000US2622000</td><td>2622000</td><td>23</td><td>United States - Detroit city, Michigan</td><td>Detroit city, Michigan</td><td>713777</td><td>713862</td><td>711088</td><td>704135</td><td>698558</td><td>689596</td><td>679903</td><td>676336</td><td>672795</td></tr><tr><th>24</th><td>0100000US</td><td>NA</td><td>United States</td><td>1620000US4752006</td><td>4752006</td><td>24</td><td>United States - Nashville-Davidson metropolitan government (balance), Tennessee</td><td>Nashville-Davidson metropolitan government (balance), Tennessee</td><td>601222</td><td>603445</td><td>604893</td><td>612104</td><td>625205</td><td>634839</td><td>644371</td><td>654078</td><td>660388</td></tr><tr><th>25</th><td>0100000US</td><td>NA</td><td>United States</td><td>1620000US4748000</td><td>4748000</td><td>25</td><td>United States - Memphis city, Tennessee</td><td>Memphis city, Tennessee</td><td>646889</td><td>651836</td><td>652456</td><td>655440</td><td>659017</td><td>657625</td><td>655641</td><td>654454</td><td>652717</td></tr><tr><th>26</th><td>0100000US</td><td>NA</td><td>United States</td><td>1620000US4159000</td><td>4159000</td><td>26</td><td>United States - Portland city, Oregon</td><td>Portland city, Oregon</td><td>583776</td><td>583799</td><td>585478</td><td>594081</td><td>603124</td><td>609132</td><td>619334</td><td>630621</td><td>639863</td></tr><tr><th>27</th><td>0100000US</td><td>NA</td><td>United States</td><td>1620000US4055000</td><td>4055000</td><td>27</td><td>United States - Oklahoma City city, Oklahoma</td><td>Oklahoma City city, Oklahoma</td><td>579999</td><td>580004</td><td>582110</td><td>589761</td><td>599825</td><td>611019</td><td>620656</td><td>630618</td><td>638367</td></tr><tr><th>28</th><td>0100000US</td><td>NA</td><td>United States</td><td>1620000US3240000</td><td>3240000</td><td>28</td><td>United States - Las Vegas city, Nevada</td><td>Las Vegas city, Nevada</td><td>583756</td><td>584526</td><td>584862</td><td>588263</td><td>595848</td><td>602749</td><td>612531</td><td>622448</td><td>632912</td></tr><tr><th>29</th><td>0100000US</td><td>NA</td><td>United States</td><td>1620000US2148006</td><td>2148006</td><td>29</td><td>United States - Louisville/Jefferson County metro government (balance), Kentucky</td><td>Louisville/Jefferson County metro government (balance), Kentucky</td><td>597337</td><td>596332</td><td>597269</td><td>600425</td><td>604609</td><td>609863</td><td>612367</td><td>614748</td><td>616261</td></tr><tr><th>30</th><td>0100000US</td><td>NA</td><td>United States</td><td>1620000US2404000</td><td>2404000</td><td>30</td><td>United States - Baltimore city, Maryland</td><td>Baltimore city, Maryland</td><td>620961</td><td>621139</td><td>621195</td><td>620815</td><td>622722</td><td>622858</td><td>623353</td><td>621402</td><td>614664</td></tr><tr><th>&vellip;</th><td>&vellip;</td><td>&vellip;</td><td>&vellip;</td><td>&vellip;</td><td>&vellip;</td><td>&vellip;</td><td>&vellip;</td><td>&vellip;</td><td>&vellip;</td><td>&vellip;</td><td>&vellip;</td><td>&vellip;</td><td>&vellip;</td><td>&vellip;</td><td>&vellip;</td><td>&vellip;</td><td>&vellip;</td></tr></tbody></table>"
      ],
      "text/plain": [
       "761×17 DataFrames.DataFrame\n",
       "│ Row │ Id          │ Id2 │ Geography       │ Target_Geo_Id      │\n",
       "├─────┼─────────────┼─────┼─────────────────┼────────────────────┤\n",
       "│ 1   │ \"0100000US\" │ NA  │ \"United States\" │ \"1620000US3651000\" │\n",
       "│ 2   │ \"0100000US\" │ NA  │ \"United States\" │ \"1620000US0644000\" │\n",
       "│ 3   │ \"0100000US\" │ NA  │ \"United States\" │ \"1620000US1714000\" │\n",
       "│ 4   │ \"0100000US\" │ NA  │ \"United States\" │ \"1620000US4835000\" │\n",
       "│ 5   │ \"0100000US\" │ NA  │ \"United States\" │ \"1620000US0455000\" │\n",
       "│ 6   │ \"0100000US\" │ NA  │ \"United States\" │ \"1620000US4260000\" │\n",
       "│ 7   │ \"0100000US\" │ NA  │ \"United States\" │ \"1620000US4865000\" │\n",
       "│ 8   │ \"0100000US\" │ NA  │ \"United States\" │ \"1620000US0666000\" │\n",
       "│ 9   │ \"0100000US\" │ NA  │ \"United States\" │ \"1620000US4819000\" │\n",
       "│ 10  │ \"0100000US\" │ NA  │ \"United States\" │ \"1620000US0668000\" │\n",
       "│ 11  │ \"0100000US\" │ NA  │ \"United States\" │ \"1620000US4805000\" │\n",
       "⋮\n",
       "│ 750 │ \"0100000US\" │ NA  │ \"United States\" │ \"1620000US1214250\" │\n",
       "│ 751 │ \"0100000US\" │ NA  │ \"United States\" │ \"1620000US4945860\" │\n",
       "│ 752 │ \"0100000US\" │ NA  │ \"United States\" │ \"1620000US3459190\" │\n",
       "│ 753 │ \"0100000US\" │ NA  │ \"United States\" │ \"1620000US0612552\" │\n",
       "│ 754 │ \"0100000US\" │ NA  │ \"United States\" │ \"1620000US4828068\" │\n",
       "│ 755 │ \"0100000US\" │ NA  │ \"United States\" │ \"1620000US1616750\" │\n",
       "│ 756 │ \"0100000US\" │ NA  │ \"United States\" │ \"1620000US3941664\" │\n",
       "│ 757 │ \"0100000US\" │ NA  │ \"United States\" │ \"1620000US0658520\" │\n",
       "│ 758 │ \"0100000US\" │ NA  │ \"United States\" │ \"1620000US3675484\" │\n",
       "│ 759 │ \"0100000US\" │ NA  │ \"United States\" │ \"1620000US5414600\" │\n",
       "│ 760 │ \"0100000US\" │ NA  │ \"United States\" │ \"1620000US2670520\" │\n",
       "│ 761 │ \"0100000US\" │ NA  │ \"United States\" │ \"1620000US3651055\" │\n",
       "\n",
       "│ Row │ Target_Geo_Id2 │ Rank │\n",
       "├─────┼────────────────┼──────┤\n",
       "│ 1   │ 3651000        │ 1    │\n",
       "│ 2   │ 644000         │ 2    │\n",
       "│ 3   │ 1714000        │ 3    │\n",
       "│ 4   │ 4835000        │ 4    │\n",
       "│ 5   │ 455000         │ 5    │\n",
       "│ 6   │ 4260000        │ 6    │\n",
       "│ 7   │ 4865000        │ 7    │\n",
       "│ 8   │ 666000         │ 8    │\n",
       "│ 9   │ 4819000        │ 9    │\n",
       "│ 10  │ 668000         │ 10   │\n",
       "│ 11  │ 4805000        │ 11   │\n",
       "⋮\n",
       "│ 750 │ 1214250        │ 750  │\n",
       "│ 751 │ 4945860        │ 751  │\n",
       "│ 752 │ 3459190        │ 752  │\n",
       "│ 753 │ 612552         │ 753  │\n",
       "│ 754 │ 4828068        │ 754  │\n",
       "│ 755 │ 1616750        │ 755  │\n",
       "│ 756 │ 3941664        │ 756  │\n",
       "│ 757 │ 658520         │ 757  │\n",
       "│ 758 │ 3675484        │ 758  │\n",
       "│ 759 │ 5414600        │ 759  │\n",
       "│ 760 │ 2670520        │ 760  │\n",
       "│ 761 │ 3651055        │ 761  │\n",
       "\n",
       "│ Row │ Geography_1                                       │\n",
       "├─────┼───────────────────────────────────────────────────┤\n",
       "│ 1   │ \"United States - New York city, New York\"         │\n",
       "│ 2   │ \"United States - Los Angeles city, California\"    │\n",
       "│ 3   │ \"United States - Chicago city, Illinois\"          │\n",
       "│ 4   │ \"United States - Houston city, Texas\"             │\n",
       "│ 5   │ \"United States - Phoenix city, Arizona\"           │\n",
       "│ 6   │ \"United States - Philadelphia city, Pennsylvania\" │\n",
       "│ 7   │ \"United States - San Antonio city, Texas\"         │\n",
       "│ 8   │ \"United States - San Diego city, California\"      │\n",
       "│ 9   │ \"United States - Dallas city, Texas\"              │\n",
       "│ 10  │ \"United States - San Jose city, California\"       │\n",
       "│ 11  │ \"United States - Austin city, Texas\"              │\n",
       "⋮\n",
       "│ 750 │ \"United States - Coral Gables city, Florida\"      │\n",
       "│ 751 │ \"United States - Logan city, Utah\"                │\n",
       "│ 752 │ \"United States - Plainfield city, New Jersey\"     │\n",
       "│ 753 │ \"United States - Cerritos city, California\"       │\n",
       "│ 754 │ \"United States - Galveston city, Texas\"           │\n",
       "│ 755 │ \"United States - Coeur d'Alene city, Idaho\"       │\n",
       "│ 756 │ \"United States - Lakewood city, Ohio\"             │\n",
       "│ 757 │ \"United States - Poway city, California\"          │\n",
       "│ 758 │ \"United States - Troy city, New York\"             │\n",
       "│ 759 │ \"United States - Charleston city, West Virginia\"  │\n",
       "│ 760 │ \"United States - Saginaw city, Michigan\"          │\n",
       "│ 761 │ \"United States - Niagara Falls city, New York\"    │\n",
       "\n",
       "│ Row │ Geography_2                       │ April_1_2010_Census │\n",
       "├─────┼───────────────────────────────────┼─────────────────────┤\n",
       "│ 1   │ \"New York city, New York\"         │ \"8175133\"           │\n",
       "│ 2   │ \"Los Angeles city, California\"    │ \"3792621\"           │\n",
       "│ 3   │ \"Chicago city, Illinois\"          │ \"2695598\"           │\n",
       "│ 4   │ \"Houston city, Texas\"             │ \"2099451\"           │\n",
       "│ 5   │ \"Phoenix city, Arizona\"           │ \"1445632\"           │\n",
       "│ 6   │ \"Philadelphia city, Pennsylvania\" │ \"1526006\"           │\n",
       "│ 7   │ \"San Antonio city, Texas\"         │ \"1327407\"           │\n",
       "│ 8   │ \"San Diego city, California\"      │ \"1307402\"           │\n",
       "│ 9   │ \"Dallas city, Texas\"              │ \"1197816\"           │\n",
       "│ 10  │ \"San Jose city, California\"       │ \"945942\"            │\n",
       "│ 11  │ \"Austin city, Texas\"              │ \"790390\"            │\n",
       "⋮\n",
       "│ 750 │ \"Coral Gables city, Florida\"      │ \"46780\"             │\n",
       "│ 751 │ \"Logan city, Utah\"                │ \"48174\"             │\n",
       "│ 752 │ \"Plainfield city, New Jersey\"     │ \"49808\"             │\n",
       "│ 753 │ \"Cerritos city, California\"       │ \"49041\"             │\n",
       "│ 754 │ \"Galveston city, Texas\"           │ \"47743\"             │\n",
       "│ 755 │ \"Coeur d'Alene city, Idaho\"       │ \"44137\"             │\n",
       "│ 756 │ \"Lakewood city, Ohio\"             │ \"52131\"             │\n",
       "│ 757 │ \"Poway city, California\"          │ \"47811\"             │\n",
       "│ 758 │ \"Troy city, New York\"             │ \"50129\"             │\n",
       "│ 759 │ \"Charleston city, West Virginia\"  │ \"51400\"             │\n",
       "│ 760 │ \"Saginaw city, Michigan\"          │ \"51508\"             │\n",
       "│ 761 │ \"Niagara Falls city, New York\"    │ \"50193\"             │\n",
       "\n",
       "│ Row │ April_1_2010_Estimates_Base │ Population_Estimate_as_of_July_1_2010 │\n",
       "├─────┼─────────────────────────────┼───────────────────────────────────────┤\n",
       "│ 1   │ 8174962                     │ 8192026                               │\n",
       "│ 2   │ 3792584                     │ 3796292                               │\n",
       "│ 3   │ 2695620                     │ 2697736                               │\n",
       "│ 4   │ 2100277                     │ 2105625                               │\n",
       "│ 5   │ 1447624                     │ 1450629                               │\n",
       "│ 6   │ 1526006                     │ 1528427                               │\n",
       "│ 7   │ 1327538                     │ 1333952                               │\n",
       "│ 8   │ 1301722                     │ 1306153                               │\n",
       "│ 9   │ 1197824                     │ 1200711                               │\n",
       "│ 10  │ 952555                      │ 955290                                │\n",
       "│ 11  │ 811045                      │ 815587                                │\n",
       "⋮\n",
       "│ 750 │ 46752                       │ 46985                                 │\n",
       "│ 751 │ 48210                       │ 48446                                 │\n",
       "│ 752 │ 49699                       │ 49806                                 │\n",
       "│ 753 │ 49047                       │ 49064                                 │\n",
       "│ 754 │ 47743                       │ 47819                                 │\n",
       "│ 755 │ 44135                       │ 44274                                 │\n",
       "│ 756 │ 52131                       │ 52039                                 │\n",
       "│ 757 │ 47806                       │ 47968                                 │\n",
       "│ 758 │ 50129                       │ 50054                                 │\n",
       "│ 759 │ 51340                       │ 51297                                 │\n",
       "│ 760 │ 51507                       │ 51422                                 │\n",
       "│ 761 │ 50173                       │ 50140                                 │\n",
       "\n",
       "│ Row │ Population_Estimate_as_of_July_1_2011 │\n",
       "├─────┼───────────────────────────────────────┤\n",
       "│ 1   │ 8284098                               │\n",
       "│ 2   │ 3825393                               │\n",
       "│ 3   │ 2705404                               │\n",
       "│ 4   │ 2132157                               │\n",
       "│ 5   │ 1469353                               │\n",
       "│ 6   │ 1539022                               │\n",
       "│ 7   │ 1359002                               │\n",
       "│ 8   │ 1320686                               │\n",
       "│ 9   │ 1218664                               │\n",
       "│ 10  │ 970823                                │\n",
       "│ 11  │ 838599                                │\n",
       "⋮\n",
       "│ 750 │ 48135                                 │\n",
       "│ 751 │ 49075                                 │\n",
       "│ 752 │ 49973                                 │\n",
       "│ 753 │ 49295                                 │\n",
       "│ 754 │ 47619                                 │\n",
       "│ 755 │ 45023                                 │\n",
       "│ 756 │ 51641                                 │\n",
       "│ 757 │ 48677                                 │\n",
       "│ 758 │ 50008                                 │\n",
       "│ 759 │ 51018                                 │\n",
       "│ 760 │ 51052                                 │\n",
       "│ 761 │ 49890                                 │\n",
       "\n",
       "│ Row │ Population_Estimate_as_of_July_1_2012 │\n",
       "├─────┼───────────────────────────────────────┤\n",
       "│ 1   │ 8361179                               │\n",
       "│ 2   │ 3858137                               │\n",
       "│ 3   │ 2714120                               │\n",
       "│ 4   │ 2166458                               │\n",
       "│ 5   │ 1499007                               │\n",
       "│ 6   │ 1550379                               │\n",
       "│ 7   │ 1385250                               │\n",
       "│ 8   │ 1338983                               │\n",
       "│ 9   │ 1241624                               │\n",
       "│ 10  │ 984151                                │\n",
       "│ 11  │ 864483                                │\n",
       "⋮\n",
       "│ 750 │ 49647                                 │\n",
       "│ 751 │ 49090                                 │\n",
       "│ 752 │ 50217                                 │\n",
       "│ 753 │ 49487                                 │\n",
       "│ 754 │ 48220                                 │\n",
       "│ 755 │ 45587                                 │\n",
       "│ 756 │ 51371                                 │\n",
       "│ 757 │ 49091                                 │\n",
       "│ 758 │ 49866                                 │\n",
       "│ 759 │ 50979                                 │\n",
       "│ 760 │ 50808                                 │\n",
       "│ 761 │ 49676                                 │\n",
       "\n",
       "│ Row │ Population_Estimate_as_of_July_1_2013 │\n",
       "├─────┼───────────────────────────────────────┤\n",
       "│ 1   │ 8422460                               │\n",
       "│ 2   │ 3890436                               │\n",
       "│ 3   │ 2718887                               │\n",
       "│ 4   │ 2204406                               │\n",
       "│ 5   │ 1525562                               │\n",
       "│ 6   │ 1555868                               │\n",
       "│ 7   │ 1411652                               │\n",
       "│ 8   │ 1358242                               │\n",
       "│ 9   │ 1258016                               │\n",
       "│ 10  │ 1001580                               │\n",
       "│ 11  │ 885343                                │\n",
       "⋮\n",
       "│ 750 │ 50376                                 │\n",
       "│ 751 │ 49093                                 │\n",
       "│ 752 │ 50523                                 │\n",
       "│ 753 │ 49631                                 │\n",
       "│ 754 │ 48854                                 │\n",
       "│ 755 │ 46387                                 │\n",
       "│ 756 │ 51153                                 │\n",
       "│ 757 │ 49488                                 │\n",
       "│ 758 │ 49951                                 │\n",
       "│ 759 │ 50825                                 │\n",
       "│ 760 │ 50358                                 │\n",
       "│ 761 │ 49471                                 │\n",
       "\n",
       "│ Row │ Population_Estimate_as_of_July_1_2014 │\n",
       "├─────┼───────────────────────────────────────┤\n",
       "│ 1   │ 8471990                               │\n",
       "│ 2   │ 3920173                               │\n",
       "│ 3   │ 2718530                               │\n",
       "│ 4   │ 2243999                               │\n",
       "│ 5   │ 1554179                               │\n",
       "│ 6   │ 1560609                               │\n",
       "│ 7   │ 1439150                               │\n",
       "│ 8   │ 1379299                               │\n",
       "│ 9   │ 1277376                               │\n",
       "│ 10  │ 1013237                               │\n",
       "│ 11  │ 911390                                │\n",
       "⋮\n",
       "│ 750 │ 50831                                 │\n",
       "│ 751 │ 49110                                 │\n",
       "│ 752 │ 50698                                 │\n",
       "│ 753 │ 49674                                 │\n",
       "│ 754 │ 49511                                 │\n",
       "│ 755 │ 47905                                 │\n",
       "│ 756 │ 50939                                 │\n",
       "│ 757 │ 49784                                 │\n",
       "│ 758 │ 50014                                 │\n",
       "│ 759 │ 50347                                 │\n",
       "│ 760 │ 49901                                 │\n",
       "│ 761 │ 49219                                 │\n",
       "\n",
       "│ Row │ Population_Estimate_as_of_July_1_2015 │\n",
       "├─────┼───────────────────────────────────────┤\n",
       "│ 1   │ 8516502                               │\n",
       "│ 2   │ 3949149                               │\n",
       "│ 3   │ 2713596                               │\n",
       "│ 4   │ 2284816                               │\n",
       "│ 5   │ 1582904                               │\n",
       "│ 6   │ 1564964                               │\n",
       "│ 7   │ 1468037                               │\n",
       "│ 8   │ 1390915                               │\n",
       "│ 9   │ 1297327                               │\n",
       "│ 10  │ 1022627                               │\n",
       "│ 11  │ 930152                                │\n",
       "⋮\n",
       "│ 750 │ 50934                                 │\n",
       "│ 751 │ 49753                                 │\n",
       "│ 752 │ 50851                                 │\n",
       "│ 753 │ 49688                                 │\n",
       "│ 754 │ 50011                                 │\n",
       "│ 755 │ 49131                                 │\n",
       "│ 756 │ 50621                                 │\n",
       "│ 757 │ 50018                                 │\n",
       "│ 758 │ 49873                                 │\n",
       "│ 759 │ 49753                                 │\n",
       "│ 760 │ 49341                                 │\n",
       "│ 761 │ 48888                                 │\n",
       "\n",
       "│ Row │ Population_Estimate_as_of_July_1_2016 │\n",
       "├─────┼───────────────────────────────────────┤\n",
       "│ 1   │ 8537673                               │\n",
       "│ 2   │ 3976322                               │\n",
       "│ 3   │ 2704958                               │\n",
       "│ 4   │ 2303482                               │\n",
       "│ 5   │ 1615017                               │\n",
       "│ 6   │ 1567872                               │\n",
       "│ 7   │ 1492510                               │\n",
       "│ 8   │ 1406630                               │\n",
       "│ 9   │ 1317929                               │\n",
       "│ 10  │ 1025350                               │\n",
       "│ 11  │ 947890                                │\n",
       "⋮\n",
       "│ 750 │ 50815                                 │\n",
       "│ 751 │ 50676                                 │\n",
       "│ 752 │ 50636                                 │\n",
       "│ 753 │ 50555                                 │\n",
       "│ 754 │ 50550                                 │\n",
       "│ 755 │ 50285                                 │\n",
       "│ 756 │ 50279                                 │\n",
       "│ 757 │ 50077                                 │\n",
       "│ 758 │ 49702                                 │\n",
       "│ 759 │ 49138                                 │\n",
       "│ 760 │ 48984                                 │\n",
       "│ 761 │ 48632                                 │"
      ]
     },
     "execution_count": 97,
     "metadata": {},
     "output_type": "execute_result"
    }
   ],
   "source": [
    "data = readtable(\"../InClass/PEP_2016_PEPANNRSIP.US12A_with_ann.csv\",\n",
    "skipstart=1)"
   ]
  },
  {
   "cell_type": "code",
   "execution_count": 108,
   "metadata": {
    "collapsed": true,
    "nbgrader": {
     "grade": false,
     "grade_id": "cell-0d02257f2238db8c",
     "locked": true,
     "schema_version": 1,
     "solution": false
    }
   },
   "outputs": [],
   "source": [
    "city_populations = readtable(\"../InClass/PEP_2016_PEPANNRSIP.US12A_with_ann.csv\",\n",
    "skipstart=1)[17];"
   ]
  },
  {
   "cell_type": "markdown",
   "metadata": {
    "nbgrader": {
     "grade": false,
     "grade_id": "cell-07c5bbe1f9ad4691",
     "locked": true,
     "schema_version": 1,
     "solution": false
    }
   },
   "source": [
    "## `city_populations` is a list of integers that are the populations of USA cities"
   ]
  },
  {
   "cell_type": "markdown",
   "metadata": {},
   "source": [
    "### Create a list of all the populations greater than or equal to 100000 where the integers are converted to strings"
   ]
  },
  {
   "cell_type": "code",
   "execution_count": 123,
   "metadata": {},
   "outputs": [
    {
     "data": {
      "text/plain": [
       "5-element Array{Float64,1}:\n",
       " 0.108678\n",
       " 0.643384\n",
       " 0.725361\n",
       " 0.280759\n",
       " 0.638771"
      ]
     },
     "execution_count": 123,
     "metadata": {},
     "output_type": "execute_result"
    }
   ],
   "source": [
    "rand(5)"
   ]
  },
  {
   "cell_type": "code",
   "execution_count": 127,
   "metadata": {
    "nbgrader": {
     "grade": false,
     "grade_id": "cell-0324eead7bbbaddc",
     "locked": false,
     "schema_version": 1,
     "solution": true
    }
   },
   "outputs": [
    {
     "data": {
      "text/plain": [
       "get_string_nums (generic function with 1 method)"
      ]
     },
     "execution_count": 127,
     "metadata": {},
     "output_type": "execute_result"
    }
   ],
   "source": [
    "function get_string_nums(nums; thresh=99999)\n",
    "    return [string(x) for x in nums if x > thresh]\n",
    "end\n"
   ]
  },
  {
   "cell_type": "code",
   "execution_count": 131,
   "metadata": {},
   "outputs": [
    {
     "ename": "LoadError",
     "evalue": "MethodError: no method matching start(::Base.#num)\u001b[0m\nClosest candidates are:\n  start(\u001b[1m\u001b[31m::SimpleVector\u001b[0m) at essentials.jl:170\n  start(\u001b[1m\u001b[31m::Base.MethodList\u001b[0m) at reflection.jl:258\n  start(\u001b[1m\u001b[31m::IntSet\u001b[0m) at intset.jl:184\n  ...\u001b[0m",
     "output_type": "error",
     "traceback": [
      "MethodError: no method matching start(::Base.#num)\u001b[0m\nClosest candidates are:\n  start(\u001b[1m\u001b[31m::SimpleVector\u001b[0m) at essentials.jl:170\n  start(\u001b[1m\u001b[31m::Base.MethodList\u001b[0m) at reflection.jl:258\n  start(\u001b[1m\u001b[31m::IntSet\u001b[0m) at intset.jl:184\n  ...\u001b[0m",
      "",
      " in collect(::Base.Generator{Base.#num,##66#67}) at ./array.jl:303",
      " in get_first_digits(::Array{String,1}) at ./In[128]:2",
      " in include_string(::String, ::String) at ./loading.jl:441"
     ]
    }
   ],
   "source": [
    "get_first_digits(get_string_nums(city_populations))"
   ]
  },
  {
   "cell_type": "markdown",
   "metadata": {
    "nbgrader": {
     "grade": false,
     "grade_id": "cell-900d1a820e031e2a",
     "locked": true,
     "schema_version": 1,
     "solution": false
    }
   },
   "source": [
    "### Create a list named `city_populations_first_digits` consisting of the first digit in each number converted to an int"
   ]
  },
  {
   "cell_type": "code",
   "execution_count": 137,
   "metadata": {},
   "outputs": [
    {
     "name": "stdout",
     "output_type": "stream",
     "text": [
      "832211111198888887666666666666555544444444444443333333333333333322222222222222222222222222222222222222222222222222211111111111111111111111111111111111111111111111111111111111111111111111111111111111111111111111111111111111111111111111111111111111111111111111111111111111111111111111111111111111111111111"
     ]
    }
   ],
   "source": [
    "for x in city_populations_strings\n",
    "    print(parse(Int64, x[1]))\n",
    "end"
   ]
  },
  {
   "cell_type": "code",
   "execution_count": 139,
   "metadata": {
    "nbgrader": {
     "grade": false,
     "grade_id": "cell-007a102e12198872",
     "locked": false,
     "schema_version": 1,
     "solution": true
    }
   },
   "outputs": [
    {
     "name": "stderr",
     "output_type": "stream",
     "text": [
      "WARNING: Method definition get_first_digits(Any) in module Main at In[133]:2 overwritten at In[139]:2.\n"
     ]
    },
    {
     "data": {
      "text/plain": [
       "get_first_digits (generic function with 1 method)"
      ]
     },
     "execution_count": 139,
     "metadata": {},
     "output_type": "execute_result"
    }
   ],
   "source": [
    "function get_first_digits(nums)\n",
    "    return [ parse(Int64, x[1]) for x in nums];\n",
    "end"
   ]
  },
  {
   "cell_type": "code",
   "execution_count": 142,
   "metadata": {
    "collapsed": true
   },
   "outputs": [],
   "source": [
    "city_populations_first_digits = get_first_digits(get_string_nums(city_populations));"
   ]
  },
  {
   "cell_type": "markdown",
   "metadata": {},
   "source": [
    "### What does the distribution of first digits look like?\n",
    "\n",
    "#### It should look like this\n",
    "![digit distribution](./population_digits.png)"
   ]
  },
  {
   "cell_type": "code",
   "execution_count": 143,
   "metadata": {
    "nbgrader": {
     "grade": false,
     "grade_id": "cell-a3c7b5cfb8cdee04",
     "locked": true,
     "schema_version": 1,
     "solution": false
    }
   },
   "outputs": [
    {
     "data": {
      "image/png": "[encoded data removed]",
      "text/plain": [
       "PyPlot.Figure(PyObject <matplotlib.figure.Figure object at 0x7f993efe5320>)"
      ]
     },
     "metadata": {},
     "output_type": "display_data"
    }
   ],
   "source": [
    "distplot(city_populations_first_digits, kde=false)\n",
    "savefig(\"population_digits.png\")"
   ]
  },
  {
   "cell_type": "markdown",
   "metadata": {},
   "source": [
    "## How does this differ from randomly generated numbers?\n",
    "\n",
    "### We have to duplicate all our prior code...\n",
    "### ...Unless we put all the functionality in functions.\n",
    "\n",
    "The resulting distribution should look something this:\n",
    "\n",
    "![random digits](./random_digits.png)"
   ]
  },
  {
   "cell_type": "code",
   "execution_count": 144,
   "metadata": {
    "collapsed": true,
    "nbgrader": {
     "grade": false,
     "grade_id": "cell-b90c49f4f13506ec",
     "locked": true,
     "schema_version": 1,
     "solution": false
    }
   },
   "outputs": [],
   "source": [
    "rn = rand(99999:10000000, length(city_populations_strings));"
   ]
  },
  {
   "cell_type": "code",
   "execution_count": 146,
   "metadata": {},
   "outputs": [
    {
     "data": {
      "image/png": "[encoded data removed]",
      "text/plain": [
       "PyPlot.Figure(PyObject <matplotlib.figure.Figure object at 0x7f993d5ebba8>)"
      ]
     },
     "metadata": {},
     "output_type": "display_data"
    },
    {
     "data": {
      "text/plain": [
       "PyObject <matplotlib.axes._subplots.AxesSubplot object at 0x7f993d607048>"
      ]
     },
     "execution_count": 146,
     "metadata": {},
     "output_type": "execute_result"
    }
   ],
   "source": [
    "distplot(get_first_digits(get_string_nums(rn)), kde=false)\n"
   ]
  },
  {
   "cell_type": "code",
   "execution_count": null,
   "metadata": {
    "collapsed": true
   },
   "outputs": [],
   "source": []
  }
 ],
 "metadata": {
  "anaconda-cloud": {},
  "kernelspec": {
   "display_name": "Julia 0.5.2",
   "language": "julia",
   "name": "julia-0.5"
  },
  "language_info": {
   "file_extension": ".jl",
   "mimetype": "application/julia",
   "name": "julia",
   "version": "0.5.2"
  }
 },
 "nbformat": 4,
 "nbformat_minor": 1
}
